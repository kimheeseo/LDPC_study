{
  "nbformat": 4,
  "nbformat_minor": 0,
  "metadata": {
    "colab": {
      "name": "XOR.ipynb",
      "provenance": [],
      "authorship_tag": "ABX9TyN8JjXAY5lOEgl0VdhP+qN9",
      "include_colab_link": true
    },
    "kernelspec": {
      "name": "python3",
      "display_name": "Python 3"
    },
    "language_info": {
      "name": "python"
    }
  },
  "cells": [
    {
      "cell_type": "markdown",
      "metadata": {
        "id": "view-in-github",
        "colab_type": "text"
      },
      "source": [
        "<a href=\"https://colab.research.google.com/github/kimheeseo/LDPC_study/blob/main/XOR.ipynb\" target=\"_parent\"><img src=\"https://colab.research.google.com/assets/colab-badge.svg\" alt=\"Open In Colab\"/></a>"
      ]
    },
    {
      "cell_type": "code",
      "execution_count": null,
      "metadata": {
        "id": "BaMI_m1vqLVb"
      },
      "outputs": [],
      "source": [
        "import numpy as np\n",
        "\n",
        "# sigmoid 함수\n",
        "def sigmoid(x):\n",
        "    return 1 / (1+np.exp(-x))\n",
        "\n",
        "# 수치미분 함수\n",
        "def numerical_derivative(f, x):\n",
        "    delta_x = 1e-4 # 0.0001\n",
        "    grad = np.zeros_like(x)\n",
        "    \n",
        "    it = np.nditer(x, flags=['multi_index'], op_flags=['readwrite'])\n",
        "    \n",
        "    while not it.finished:\n",
        "        idx = it.multi_index        \n",
        "        tmp_val = x[idx]\n",
        "        x[idx] = float(tmp_val) + delta_x\n",
        "        fx1 = f(x) # f(x+delta_x)\n",
        "        \n",
        "        x[idx] = tmp_val - delta_x \n",
        "        fx2 = f(x) # f(x-delta_x)\n",
        "        grad[idx] = (fx1 - fx2) / (2*delta_x)\n",
        "        \n",
        "        x[idx] = tmp_val \n",
        "        it.iternext()   \n",
        "        \n",
        "    return grad"
      ]
    },
    {
      "cell_type": "code",
      "source": [
        "# LogicGate Class\n",
        "\n",
        "class LogicGate:\n",
        "    \n",
        "    def __init__(self, gate_name, xdata, tdata):  # xdata, tdata => numpy.array(...)\n",
        "        \n",
        "        self.name = gate_name\n",
        "        \n",
        "        # 입력 데이터, 정답 데이터 초기화\n",
        "        self.__xdata = xdata.reshape(4,2)\n",
        "        self.__tdata = tdata.reshape(4,1)\n",
        "        \n",
        "        # 가중치 W, 바이어스 b 초기화\n",
        "        self.__W = np.random.rand(2,1)  # weight, 2 X 1 matrix\n",
        "        self.__b = np.random.rand(1)\n",
        "                        \n",
        "        # 학습률 learning rate 초기화\n",
        "        self.__learning_rate = 1e-2\n",
        "        \n",
        "    # 손실함수\n",
        "    def __loss_func(self):\n",
        "        \n",
        "        delta = 1e-7    # log 무한대 발산 방지\n",
        "    \n",
        "        z = np.dot(self.__xdata, self.__W) + self.__b\n",
        "        y = sigmoid(z)\n",
        "    \n",
        "        # cross-entropy \n",
        "        return  -np.sum( self.__tdata*np.log(y + delta) + (1-self.__tdata)*np.log((1 - y)+delta ) )      \n",
        "    \n",
        "    # 손실 값 계산\n",
        "    def error_val(self):\n",
        "        \n",
        "        delta = 1e-7    # log 무한대 발산 방지\n",
        "    \n",
        "        z = np.dot(self.__xdata, self.__W) + self.__b\n",
        "        y = sigmoid(z)\n",
        "    \n",
        "        # cross-entropy \n",
        "        return  -np.sum( self.__tdata*np.log(y + delta) + (1-self.__tdata)*np.log((1 - y)+delta ) )\n",
        "\n",
        "    # 수치미분을 이용하여 손실함수가 최소가 될때 까지 학습하는 함수\n",
        "    def train(self):\n",
        "        \n",
        "        f = lambda x : self.__loss_func()\n",
        "        \n",
        "        print(\"Initial error value = \", self.error_val())\n",
        "        \n",
        "        for step in  range(8001):\n",
        "            \n",
        "            self.__W -= self.__learning_rate * numerical_derivative(f, self.__W)\n",
        "    \n",
        "            self.__b -= self.__learning_rate * numerical_derivative(f, self.__b)\n",
        "    \n",
        "            if (step % 400 == 0):\n",
        "                print(\"step = \", step, \"error value = \", self.error_val())\n",
        "                \n",
        "                \n",
        "    # 미래 값 예측 함수\n",
        "    def predict(self, input_data):\n",
        "        \n",
        "        z = np.dot(input_data, self.__W) + self.__b\n",
        "        y = sigmoid(z)\n",
        "    \n",
        "        if y > 0.5:\n",
        "            result = 1  # True\n",
        "        else:\n",
        "            result = 0  # False\n",
        "    \n",
        "        return y, result"
      ],
      "metadata": {
        "id": "BMuJZKiAqNkU"
      },
      "execution_count": null,
      "outputs": []
    },
    {
      "cell_type": "code",
      "source": [
        "xdata = np.array([ [0, 0], [0, 1], [1, 0], [1, 1] ])\n",
        "tdata = np.array([0, 0, 0, 1])\n",
        "\n",
        "AND_obj = LogicGate(\"AND_GATE\", xdata, tdata)\n",
        "\n",
        "AND_obj.train()"
      ],
      "metadata": {
        "colab": {
          "base_uri": "https://localhost:8080/"
        },
        "id": "IiFWD2fgqPVe",
        "outputId": "afe9ecfc-f2b9-4266-d0ec-bc41487a3849"
      },
      "execution_count": null,
      "outputs": [
        {
          "output_type": "stream",
          "name": "stdout",
          "text": [
            "Initial error value =  4.1059037463109345\n",
            "step =  0 error value =  4.060610887502141\n",
            "step =  400 error value =  1.5878462347865958\n",
            "step =  800 error value =  1.1668709412251408\n",
            "step =  1200 error value =  0.9334431328192894\n",
            "step =  1600 error value =  0.7810389307134978\n",
            "step =  2000 error value =  0.6721496283215975\n",
            "step =  2400 error value =  0.5898992533966009\n",
            "step =  2800 error value =  0.5253726207158661\n",
            "step =  3200 error value =  0.47332770625387655\n",
            "step =  3600 error value =  0.43044300183219747\n",
            "step =  4000 error value =  0.3944956478686108\n",
            "step =  4400 error value =  0.36393477411355024\n",
            "step =  4800 error value =  0.3376422157424688\n",
            "step =  5200 error value =  0.3147899943202557\n",
            "step =  5600 error value =  0.29475126345985964\n",
            "step =  6000 error value =  0.27704244737270334\n",
            "step =  6400 error value =  0.2612844087667121\n",
            "step =  6800 error value =  0.2471756654170051\n",
            "step =  7200 error value =  0.23447347917309536\n",
            "step =  7600 error value =  0.22298022920794275\n",
            "step =  8000 error value =  0.21253341612523985\n"
          ]
        }
      ]
    },
    {
      "cell_type": "code",
      "source": [
        "# AND Gate prediction\n",
        "print(AND_obj.name, \"\\n\")\n",
        "\n",
        "test_data = np.array([ [0, 0], [0, 1], [1, 0], [1, 1] ])\n",
        "\n",
        "for input_data in test_data:\n",
        "    (sigmoid_val, logical_val) = AND_obj.predict(input_data) \n",
        "    print(input_data, \" = \", logical_val, \"\\n\")  "
      ],
      "metadata": {
        "colab": {
          "base_uri": "https://localhost:8080/"
        },
        "id": "WSDXDpZ_qQys",
        "outputId": "421097f0-b4c0-4ce4-9e14-764ed761f618"
      },
      "execution_count": null,
      "outputs": [
        {
          "output_type": "stream",
          "name": "stdout",
          "text": [
            "AND_GATE \n",
            "\n",
            "[0 0]  =  0 \n",
            "\n",
            "[0 1]  =  0 \n",
            "\n",
            "[1 0]  =  0 \n",
            "\n",
            "[1 1]  =  1 \n",
            "\n"
          ]
        }
      ]
    },
    {
      "cell_type": "code",
      "source": [
        "xdata = np.array([ [0, 0], [0, 1], [1, 0], [1, 1] ])\n",
        "tdata = np.array([0, 1, 1, 1])\n",
        "\n",
        "OR_obj = LogicGate(\"OR_GATE\", xdata, tdata)\n",
        "\n",
        "OR_obj.train() "
      ],
      "metadata": {
        "colab": {
          "base_uri": "https://localhost:8080/"
        },
        "id": "WQnlACekqUTQ",
        "outputId": "e280faa8-5d78-4497-a89b-10d36adbee5d"
      },
      "execution_count": null,
      "outputs": [
        {
          "output_type": "stream",
          "name": "stdout",
          "text": [
            "Initial error value =  1.7633898721261614\n",
            "step =  0 error value =  1.7583813231907477\n",
            "step =  400 error value =  1.0661879417255726\n",
            "step =  800 error value =  0.7785498828626126\n",
            "step =  1200 error value =  0.608020804336479\n",
            "step =  1600 error value =  0.4960766660519519\n",
            "step =  2000 error value =  0.4173820558228277\n",
            "step =  2400 error value =  0.3592894713138133\n",
            "step =  2800 error value =  0.314795103092112\n",
            "step =  3200 error value =  0.2797162492737094\n",
            "step =  3600 error value =  0.25140757527844476\n",
            "step =  4000 error value =  0.22811852652036418\n",
            "step =  4400 error value =  0.20864714391413347\n",
            "step =  4800 error value =  0.1921423874128424\n",
            "step =  5200 error value =  0.17798577503692473\n",
            "step =  5600 error value =  0.1657176489044396\n",
            "step =  6000 error value =  0.1549896676471267\n",
            "step =  6400 error value =  0.14553329313024146\n",
            "step =  6800 error value =  0.13713834859249072\n",
            "step =  7200 error value =  0.1296380986438385\n",
            "step =  7600 error value =  0.122898658280517\n",
            "step =  8000 error value =  0.11681133935787917\n"
          ]
        }
      ]
    },
    {
      "cell_type": "code",
      "source": [
        "# OR Gate prediction\n",
        "print(OR_obj.name, \"\\n\")\n",
        "\n",
        "test_data = np.array([ [0, 0], [0, 1], [1, 0], [1, 1] ])\n",
        "\n",
        "for input_data in test_data:\n",
        "    (sigmoid_val, logical_val) = OR_obj.predict(input_data) \n",
        "    print(input_data, \" = \", logical_val, \"\\n\")  "
      ],
      "metadata": {
        "colab": {
          "base_uri": "https://localhost:8080/"
        },
        "id": "mdrbTAcJqV4Y",
        "outputId": "b26c332c-9e77-4bbc-93ed-ec83b18f950a"
      },
      "execution_count": null,
      "outputs": [
        {
          "output_type": "stream",
          "name": "stdout",
          "text": [
            "OR_GATE \n",
            "\n",
            "[0 0]  =  0 \n",
            "\n",
            "[0 1]  =  1 \n",
            "\n",
            "[1 0]  =  1 \n",
            "\n",
            "[1 1]  =  1 \n",
            "\n"
          ]
        }
      ]
    },
    {
      "cell_type": "code",
      "source": [
        "xdata = np.array([ [0, 0], [0, 1], [1, 0], [1, 1] ])\n",
        "tdata = np.array([1, 1, 1, 0])\n",
        "\n",
        "NAND_obj = LogicGate(\"NAND_GATE\", xdata, tdata)\n",
        "\n",
        "NAND_obj.train()"
      ],
      "metadata": {
        "colab": {
          "base_uri": "https://localhost:8080/"
        },
        "id": "orUZI3DxqXEi",
        "outputId": "86b6e781-643a-4ec0-e1c8-b4527639b8bf"
      },
      "execution_count": null,
      "outputs": [
        {
          "output_type": "stream",
          "name": "stdout",
          "text": [
            "Initial error value =  2.940728507982608\n",
            "step =  0 error value =  2.9342370824608324\n",
            "step =  400 error value =  1.6810502458626106\n",
            "step =  800 error value =  1.2139419261846967\n",
            "step =  1200 error value =  0.9624722315131788\n",
            "step =  1600 error value =  0.8010296737600324\n",
            "step =  2000 error value =  0.6868726223929009\n",
            "step =  2400 error value =  0.6012394113495642\n",
            "step =  2800 error value =  0.5343921665436625\n",
            "step =  3200 error value =  0.48067801645324326\n",
            "step =  3600 error value =  0.4365489945296852\n",
            "step =  4000 error value =  0.3996478147589415\n",
            "step =  4400 error value =  0.3683391244864824\n",
            "step =  4800 error value =  0.3414492202212349\n",
            "step =  5200 error value =  0.31811226227743583\n",
            "step =  5600 error value =  0.2976748101955483\n",
            "step =  6000 error value =  0.2796341334789286\n",
            "step =  6400 error value =  0.2635969999027349\n",
            "step =  6800 error value =  0.24925136171880952\n",
            "step =  7200 error value =  0.23634643149641268\n",
            "step =  7600 error value =  0.22467836759203602\n",
            "step =  8000 error value =  0.21407980103181934\n"
          ]
        }
      ]
    },
    {
      "cell_type": "code",
      "source": [
        "# NAND Gate prediction\n",
        "print(NAND_obj.name, \"\\n\")\n",
        "\n",
        "test_data = np.array([ [0, 0], [0, 1], [1, 0], [1, 1] ])\n",
        "\n",
        "for input_data in test_data:\n",
        "    (sigmoid_val, logical_val) = NAND_obj.predict(input_data) \n",
        "    print(input_data, \" = \", logical_val, \"\\n\")  "
      ],
      "metadata": {
        "colab": {
          "base_uri": "https://localhost:8080/"
        },
        "id": "ncJa8_P_qYcS",
        "outputId": "c44b7816-c83e-48fe-b912-e624e8c788df"
      },
      "execution_count": null,
      "outputs": [
        {
          "output_type": "stream",
          "name": "stdout",
          "text": [
            "NAND_GATE \n",
            "\n",
            "[0 0]  =  1 \n",
            "\n",
            "[0 1]  =  1 \n",
            "\n",
            "[1 0]  =  1 \n",
            "\n",
            "[1 1]  =  0 \n",
            "\n"
          ]
        }
      ]
    },
    {
      "cell_type": "code",
      "source": [
        "xdata = np.array([ [0, 0], [0, 1], [1, 0], [1, 1] ])\n",
        "tdata = np.array([0, 1, 1, 0])\n",
        "\n",
        "\n",
        "XOR_obj = LogicGate(\"XOR_GATE\", xdata, tdata)\n",
        "\n",
        "# XOR Gate 를 보면, 손실함수 값이 2.7 근처에서 더 이상 감소하지 않는것을 볼수 있음\n",
        "XOR_obj.train()"
      ],
      "metadata": {
        "colab": {
          "base_uri": "https://localhost:8080/"
        },
        "id": "NtFpUxDJqZ_9",
        "outputId": "ce022e98-3080-44d0-ae91-75f81f50fd19"
      },
      "execution_count": null,
      "outputs": [
        {
          "output_type": "stream",
          "name": "stdout",
          "text": [
            "Initial error value =  3.7905492179138687\n",
            "step =  0 error value =  3.767336993017256\n",
            "step =  400 error value =  2.777153327077766\n",
            "step =  800 error value =  2.7733481794504664\n",
            "step =  1200 error value =  2.7727313033853433\n",
            "step =  1600 error value =  2.7726188229266344\n",
            "step =  2000 error value =  2.7725953656388893\n",
            "step =  2400 error value =  2.7725898544006995\n",
            "step =  2800 error value =  2.7725884458997982\n",
            "step =  3200 error value =  2.7725880674225216\n",
            "step =  3600 error value =  2.772587962951241\n",
            "step =  4000 error value =  2.772587933719429\n",
            "step =  4400 error value =  2.772587925485469\n",
            "step =  4800 error value =  2.7725879231586648\n",
            "step =  5200 error value =  2.7725879225001258\n",
            "step =  5600 error value =  2.7725879223136065\n",
            "step =  6000 error value =  2.77258792226076\n",
            "step =  6400 error value =  2.772587922245784\n",
            "step =  6800 error value =  2.7725879222415397\n",
            "step =  7200 error value =  2.7725879222403376\n",
            "step =  7600 error value =  2.772587922239996\n",
            "step =  8000 error value =  2.7725879222398992\n"
          ]
        }
      ]
    },
    {
      "cell_type": "code",
      "source": [
        "# XOR Gate prediction => 예측이 되지 않음\n",
        "print(XOR_obj.name, \"\\n\")\n",
        "\n",
        "test_data = np.array([ [0, 0], [0, 1], [1, 0], [1, 1] ])\n",
        "\n",
        "for input_data in test_data:\n",
        "    (sigmoid_val, logical_val) = XOR_obj.predict(input_data) \n",
        "    print(input_data, \" = \", logical_val, \"\\n\")  "
      ],
      "metadata": {
        "colab": {
          "base_uri": "https://localhost:8080/"
        },
        "id": "icrLwqIfqbgV",
        "outputId": "5d4f7a7f-44e6-4b76-c145-fad61c0055bd"
      },
      "execution_count": null,
      "outputs": [
        {
          "output_type": "stream",
          "name": "stdout",
          "text": [
            "XOR_GATE \n",
            "\n",
            "[0 0]  =  0 \n",
            "\n",
            "[0 1]  =  0 \n",
            "\n",
            "[1 0]  =  0 \n",
            "\n",
            "[1 1]  =  1 \n",
            "\n"
          ]
        }
      ]
    },
    {
      "cell_type": "code",
      "source": [
        "# XOR 을 NAND + OR => AND 조합으로 계산함\n",
        "input_data = np.array([ [0, 0], [0, 1], [1, 0], [1, 1] ])\n",
        "\n",
        "s1 = []    # NAND 출력\n",
        "s2 = []    # OR 출력\n",
        "\n",
        "new_input_data = []  # AND 입력\n",
        "final_output = []    # AND 출력\n",
        "\n",
        "for index in range(len(input_data)):\n",
        "    \n",
        "    s1 = NAND_obj.predict(input_data[index])  # NAND 출력\n",
        "    print('s1값',s1)\n",
        "    s2 = OR_obj.predict(input_data[index])    # OR 출력\n",
        "    print('s2값',s2,'\\n')\n",
        "\n",
        "    new_input_data.append(s1[-1])    # AND 입력\n",
        "    print('new)input_data1값',new_input_data)\n",
        "    new_input_data.append(s2[-1])    # AND 입력\n",
        "    print('new)input_data2값',new_input_data,'\\n')\n",
        "    \n",
        "    (sigmoid_val, logical_val) = AND_obj.predict(np.array(new_input_data))\n",
        "    print(\"AND_obj\", AND_obj.predict(np.array(new_input_data)), \"\\n\")\n",
        "\n",
        "    final_output.append(logical_val)    # AND 출력, 즉 XOR 출력    \n",
        "    print(\"final_output값,\",final_output,\"\\n\")\n",
        "    new_input_data = []    # AND 입력 초기화\n",
        "\n",
        "\n",
        "for index in range(len(input_data)):    \n",
        "    print(input_data[index], \" = \", final_output[index], end='')\n",
        "    print(\"\\n\")"
      ],
      "metadata": {
        "colab": {
          "base_uri": "https://localhost:8080/"
        },
        "id": "dNTrSgNAqdLz",
        "outputId": "ef636eb3-6cce-4081-8f2a-fd405a0af02f"
      },
      "execution_count": null,
      "outputs": [
        {
          "output_type": "stream",
          "name": "stdout",
          "text": [
            "s1값 (array([0.9996146]), 1)\n",
            "s2값 (array([0.0634982]), 0) \n",
            "\n",
            "new)input_data1값 [1]\n",
            "new)input_data2값 [1, 0] \n",
            "\n",
            "AND_obj (array([0.06010962]), 0) \n",
            "\n",
            "final_output값, [0] \n",
            "\n",
            "s1값 (array([0.9394758]), 1)\n",
            "s2값 (array([0.97467558]), 1) \n",
            "\n",
            "new)input_data1값 [1]\n",
            "new)input_data2값 [1, 1] \n",
            "\n",
            "AND_obj (array([0.91559702]), 1) \n",
            "\n",
            "final_output값, [0, 1] \n",
            "\n",
            "s1값 (array([0.93947285]), 1)\n",
            "s2값 (array([0.97481088]), 1) \n",
            "\n",
            "new)input_data1값 [1]\n",
            "new)input_data2값 [1, 1] \n",
            "\n",
            "AND_obj (array([0.91559702]), 1) \n",
            "\n",
            "final_output값, [0, 1, 1] \n",
            "\n",
            "s1값 (array([0.08499447]), 0)\n",
            "s2값 (array([0.99995448]), 1) \n",
            "\n",
            "new)input_data1값 [0]\n",
            "new)input_data2값 [0, 1] \n",
            "\n",
            "AND_obj (array([0.06010389]), 0) \n",
            "\n",
            "final_output값, [0, 1, 1, 0] \n",
            "\n",
            "[0 0]  =  0\n",
            "\n",
            "[0 1]  =  1\n",
            "\n",
            "[1 0]  =  1\n",
            "\n",
            "[1 1]  =  0\n",
            "\n"
          ]
        }
      ]
    },
    {
      "cell_type": "code",
      "source": [
        "len(input_data)"
      ],
      "metadata": {
        "colab": {
          "base_uri": "https://localhost:8080/"
        },
        "id": "PqE4rnslqrgf",
        "outputId": "d27e3d45-0c78-403a-c405-4a1bd69b0655"
      },
      "execution_count": null,
      "outputs": [
        {
          "output_type": "execute_result",
          "data": {
            "text/plain": [
              "4"
            ]
          },
          "metadata": {},
          "execution_count": 13
        }
      ]
    },
    {
      "cell_type": "code",
      "source": [
        "AND_obj.predict([1,1])"
      ],
      "metadata": {
        "colab": {
          "base_uri": "https://localhost:8080/"
        },
        "id": "mD95GIO4xPyI",
        "outputId": "26cf18e1-31df-4a6a-f6ca-b79b227ce114"
      },
      "execution_count": null,
      "outputs": [
        {
          "output_type": "execute_result",
          "data": {
            "text/plain": [
              "(array([0.91559702]), 1)"
            ]
          },
          "metadata": {},
          "execution_count": 24
        }
      ]
    }
  ]
}