{
  "nbformat": 4,
  "nbformat_minor": 0,
  "metadata": {
    "colab": {
      "name": "python_class.ipynb",
      "provenance": [],
      "authorship_tag": "ABX9TyP19+69JHhJiUFdNlJvotFR",
      "include_colab_link": true
    },
    "kernelspec": {
      "name": "python3",
      "display_name": "Python 3"
    },
    "language_info": {
      "name": "python"
    }
  },
  "cells": [
    {
      "cell_type": "markdown",
      "metadata": {
        "id": "view-in-github",
        "colab_type": "text"
      },
      "source": [
        "<a href=\"https://colab.research.google.com/github/kimheeseo/LDPC_study/blob/main/python_class.ipynb\" target=\"_parent\"><img src=\"https://colab.research.google.com/assets/colab-badge.svg\" alt=\"Open In Colab\"/></a>"
      ]
    },
    {
      "cell_type": "code",
      "execution_count": 5,
      "metadata": {
        "id": "cEeqc44fcTQp"
      },
      "outputs": [],
      "source": [
        "class Person:\n",
        "  def __init__(self,name):\n",
        "    self.name=name\n",
        "    print(self.name+\" is initialized\")\n",
        "\n",
        "  def work(self, company):\n",
        "    print(self.name+\" is working in\"+company)\n",
        "\n",
        "  def sleep(self):\n",
        "    print(self.name+\" is sleeping\")"
      ]
    },
    {
      "cell_type": "code",
      "source": [
        "obj=Person(\"Park\")"
      ],
      "metadata": {
        "colab": {
          "base_uri": "https://localhost:8080/"
        },
        "id": "0euEKJBXcvOw",
        "outputId": "b58644b1-0f03-4cfc-f463-2108bd4097eb"
      },
      "execution_count": 6,
      "outputs": [
        {
          "output_type": "stream",
          "name": "stdout",
          "text": [
            "Park is initialized\n"
          ]
        }
      ]
    },
    {
      "cell_type": "code",
      "source": [
        "obj.work(\"ABCDEF\")"
      ],
      "metadata": {
        "colab": {
          "base_uri": "https://localhost:8080/"
        },
        "id": "VquGa5qBc68x",
        "outputId": "d2e7f42b-c35c-4a2e-d23f-d8fb5f42b514"
      },
      "execution_count": 7,
      "outputs": [
        {
          "output_type": "stream",
          "name": "stdout",
          "text": [
            "Park is working inABCDEF\n"
          ]
        }
      ]
    },
    {
      "cell_type": "code",
      "source": [
        "obj.sleep()"
      ],
      "metadata": {
        "id": "93EuTjj2dBhy",
        "outputId": "e1f35830-d29a-4cb5-d70c-09feba5da529",
        "colab": {
          "base_uri": "https://localhost:8080/"
        }
      },
      "execution_count": 8,
      "outputs": [
        {
          "output_type": "stream",
          "name": "stdout",
          "text": [
            "Park is sleeping\n"
          ]
        }
      ]
    },
    {
      "cell_type": "code",
      "source": [
        "print(\"current person object is\", obj.name)"
      ],
      "metadata": {
        "colab": {
          "base_uri": "https://localhost:8080/"
        },
        "id": "mJwPWlV8c_Es",
        "outputId": "219ae332-2d6f-46f4-a9ef-354bed38c996"
      },
      "execution_count": 9,
      "outputs": [
        {
          "output_type": "stream",
          "name": "stdout",
          "text": [
            "current person object is Park\n"
          ]
        }
      ]
    }
  ]
}
