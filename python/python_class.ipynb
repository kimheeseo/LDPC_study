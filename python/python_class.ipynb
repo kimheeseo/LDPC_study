{
  "nbformat": 4,
  "nbformat_minor": 0,
  "metadata": {
    "colab": {
      "name": "python_class.ipynb",
      "provenance": [],
      "authorship_tag": "ABX9TyOtadQpIQIDsecqEQZLHb+a",
      "include_colab_link": true
    },
    "kernelspec": {
      "name": "python3",
      "display_name": "Python 3"
    },
    "language_info": {
      "name": "python"
    }
  },
  "cells": [
    {
      "cell_type": "markdown",
      "metadata": {
        "id": "view-in-github",
        "colab_type": "text"
      },
      "source": [
        "<a href=\"https://colab.research.google.com/github/kimheeseo/LDPC_study/blob/main/python_class.ipynb\" target=\"_parent\"><img src=\"https://colab.research.google.com/assets/colab-badge.svg\" alt=\"Open In Colab\"/></a>"
      ]
    },
    {
      "cell_type": "code",
      "execution_count": null,
      "metadata": {
        "id": "cEeqc44fcTQp"
      },
      "outputs": [],
      "source": [
        "class Person:\n",
        "  def __init__(self,name):\n",
        "    self.name=name\n",
        "    print(self.name+\"is initialized\")\n",
        "\n",
        "  def work(sel,f company):\n",
        "    print(self.name+\"is working in\"+company)\n",
        "\n",
        "  def sleep(self):\n",
        "    print(self.name+\"is sleeping\")"
      ]
    }
  ]
}
