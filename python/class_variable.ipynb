{
  "nbformat": 4,
  "nbformat_minor": 0,
  "metadata": {
    "colab": {
      "name": "class_variable.ipynb",
      "provenance": [],
      "authorship_tag": "ABX9TyPkB5j5qvV3ZORK82Wm2uPo",
      "include_colab_link": true
    },
    "kernelspec": {
      "name": "python3",
      "display_name": "Python 3"
    },
    "language_info": {
      "name": "python"
    }
  },
  "cells": [
    {
      "cell_type": "markdown",
      "metadata": {
        "id": "view-in-github",
        "colab_type": "text"
      },
      "source": [
        "<a href=\"https://colab.research.google.com/github/kimheeseo/LDPC_study/blob/main/class_variable.ipynb\" target=\"_parent\"><img src=\"https://colab.research.google.com/assets/colab-badge.svg\" alt=\"Open In Colab\"/></a>"
      ]
    },
    {
      "cell_type": "code",
      "execution_count": 38,
      "metadata": {
        "id": "Q-zSPv2Tgxh-"
      },
      "outputs": [],
      "source": [
        "class Person:\n",
        "  count=0\n",
        "  \n",
        "  def __init__(self, name):\n",
        "    self.name=name\n",
        "    Person.count+=1\n",
        "    print(self.name+\" is initialized\")\n",
        "\n",
        "  def work(self, company):\n",
        "    print(self.name+\" is working in\"+company)\n",
        "\n",
        "  def sleep(self):\n",
        "    print(self.name+\" is sleeping\")\n",
        "\n",
        "  @classmethod\n",
        "  def getCount(cls):\n",
        "    return cls.count"
      ]
    },
    {
      "cell_type": "code",
      "source": [
        "obj1=Person(\"park\")\n",
        "print(Person.count)\n",
        "obj2=Person(\"kim\")\n",
        "print(Person.count)\n",
        "#@obj3=Person(\"lee\")\n",
        "#print(Person.count)"
      ],
      "metadata": {
        "colab": {
          "base_uri": "https://localhost:8080/"
        },
        "id": "Ub5IaLa6hpDB",
        "outputId": "fe7c5506-cb4a-4a0f-adca-9b8b159f4a97"
      },
      "execution_count": 39,
      "outputs": [
        {
          "output_type": "stream",
          "name": "stdout",
          "text": [
            "park is initialized\n",
            "1\n",
            "kim is initialized\n",
            "2\n"
          ]
        }
      ]
    },
    {
      "cell_type": "code",
      "source": [
        "obj2.sleep()"
      ],
      "metadata": {
        "colab": {
          "base_uri": "https://localhost:8080/"
        },
        "id": "O-RKykWfh5Dy",
        "outputId": "4a008105-a76a-41b0-ec10-068cc352f0b8"
      },
      "execution_count": 40,
      "outputs": [
        {
          "output_type": "stream",
          "name": "stdout",
          "text": [
            "kim is sleeping\n"
          ]
        }
      ]
    },
    {
      "cell_type": "code",
      "source": [
        "obj1.work(\"ABCDEF\")"
      ],
      "metadata": {
        "colab": {
          "base_uri": "https://localhost:8080/"
        },
        "id": "-dG9oakWh1_K",
        "outputId": "403e311c-1bd8-4130-aa50-afeefbe3716d"
      },
      "execution_count": 41,
      "outputs": [
        {
          "output_type": "stream",
          "name": "stdout",
          "text": [
            "park is working inABCDEF\n"
          ]
        }
      ]
    },
    {
      "cell_type": "code",
      "source": [
        "print(\"Person count==\",Person.getCount())"
      ],
      "metadata": {
        "colab": {
          "base_uri": "https://localhost:8080/"
        },
        "id": "QK02mrTAhUEt",
        "outputId": "b22f0bff-bd87-48c9-beca-c1b981420a76"
      },
      "execution_count": 42,
      "outputs": [
        {
          "output_type": "stream",
          "name": "stdout",
          "text": [
            "Person count== 2\n"
          ]
        }
      ]
    },
    {
      "cell_type": "markdown",
      "source": [
        "\"Person count== 2\"인 이유는 obj1, obj2이기 때문."
      ],
      "metadata": {
        "id": "vwZ9m28gh80A"
      }
    },
    {
      "cell_type": "code",
      "source": [
        "obj1=Person(\"park\")\n",
        "obj2=Person(\"kim\")\n",
        "obj3=Person(\"lee\")"
      ],
      "metadata": {
        "colab": {
          "base_uri": "https://localhost:8080/"
        },
        "id": "xGEH5JqSiEz0",
        "outputId": "a9a4a9f4-85bc-4bfc-ae67-ec20f3be9a10"
      },
      "execution_count": 43,
      "outputs": [
        {
          "output_type": "stream",
          "name": "stdout",
          "text": [
            "park is initialized\n",
            "kim is initialized\n",
            "lee is initialized\n"
          ]
        }
      ]
    },
    {
      "cell_type": "code",
      "source": [
        "print(\"Person count==\",Person.getCount())\n",
        "#이전에 2에서 멈췄기에, 2+3에 의해서 Person count ==5가 됩니다."
      ],
      "metadata": {
        "colab": {
          "base_uri": "https://localhost:8080/"
        },
        "id": "D0LTPjaHiHVo",
        "outputId": "1de2180e-56e9-4b3a-e351-3a8497af247b"
      },
      "execution_count": 44,
      "outputs": [
        {
          "output_type": "stream",
          "name": "stdout",
          "text": [
            "Person count== 5\n"
          ]
        }
      ]
    }
  ]
}
