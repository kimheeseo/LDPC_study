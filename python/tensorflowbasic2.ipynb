{
  "nbformat": 4,
  "nbformat_minor": 0,
  "metadata": {
    "colab": {
      "name": "tensorflowbasic2.ipynb",
      "provenance": [],
      "collapsed_sections": [],
      "authorship_tag": "ABX9TyNi9PWwtKCgRpDbWsYgEDM3",
      "include_colab_link": true
    },
    "kernelspec": {
      "name": "python3",
      "display_name": "Python 3"
    },
    "language_info": {
      "name": "python"
    },
    "accelerator": "GPU",
    "gpuClass": "standard"
  },
  "cells": [
    {
      "cell_type": "markdown",
      "metadata": {
        "id": "view-in-github",
        "colab_type": "text"
      },
      "source": [
        "<a href=\"https://colab.research.google.com/github/kimheeseo/LDPC_study/blob/main/tensorflowbasic2.ipynb\" target=\"_parent\"><img src=\"https://colab.research.google.com/assets/colab-badge.svg\" alt=\"Open In Colab\"/></a>"
      ]
    },
    {
      "cell_type": "markdown",
      "source": [
        "출처 : https://github.com/neowizard2018/neowizard "
      ],
      "metadata": {
        "id": "wata0nbjC9--"
      }
    },
    {
      "cell_type": "code",
      "source": [
        "#30강\n",
        "!pip uninstall tensorflow\n",
        "#tensorflow 삭제"
      ],
      "metadata": {
        "colab": {
          "base_uri": "https://localhost:8080/"
        },
        "id": "hTJOKhAKsr7t",
        "outputId": "b9255a93-424d-455e-d813-454f60f8c9c5"
      },
      "execution_count": 1,
      "outputs": [
        {
          "output_type": "stream",
          "name": "stdout",
          "text": [
            "Found existing installation: tensorflow 2.8.2+zzzcolab20220527125636\n",
            "Uninstalling tensorflow-2.8.2+zzzcolab20220527125636:\n",
            "  Would remove:\n",
            "    /usr/local/bin/estimator_ckpt_converter\n",
            "    /usr/local/bin/import_pb_to_tensorboard\n",
            "    /usr/local/bin/saved_model_cli\n",
            "    /usr/local/bin/tensorboard\n",
            "    /usr/local/bin/tf_upgrade_v2\n",
            "    /usr/local/bin/tflite_convert\n",
            "    /usr/local/bin/toco\n",
            "    /usr/local/bin/toco_from_protos\n",
            "    /usr/local/lib/python3.7/dist-packages/tensorflow-2.8.2+zzzcolab20220527125636.dist-info/*\n",
            "    /usr/local/lib/python3.7/dist-packages/tensorflow/*\n",
            "Proceed (y/n)? y\n",
            "  Successfully uninstalled tensorflow-2.8.2+zzzcolab20220527125636\n"
          ]
        }
      ]
    },
    {
      "cell_type": "code",
      "source": [
        "!pip install tensorflow==1.15 # 1.15 버전 Tensorflow 설치"
      ],
      "metadata": {
        "colab": {
          "base_uri": "https://localhost:8080/"
        },
        "id": "cEg8i2tBsssw",
        "outputId": "4f06165e-a51a-4700-da80-6aefaf733ffa"
      },
      "execution_count": 2,
      "outputs": [
        {
          "output_type": "stream",
          "name": "stdout",
          "text": [
            "Looking in indexes: https://pypi.org/simple, https://us-python.pkg.dev/colab-wheels/public/simple/\n",
            "Collecting tensorflow==1.15\n",
            "  Downloading tensorflow-1.15.0-cp37-cp37m-manylinux2010_x86_64.whl (412.3 MB)\n",
            "\u001b[K     |████████████████████████████████| 412.3 MB 20 kB/s \n",
            "\u001b[?25hRequirement already satisfied: termcolor>=1.1.0 in /usr/local/lib/python3.7/dist-packages (from tensorflow==1.15) (1.1.0)\n",
            "Requirement already satisfied: protobuf>=3.6.1 in /usr/local/lib/python3.7/dist-packages (from tensorflow==1.15) (3.17.3)\n",
            "Requirement already satisfied: wheel>=0.26 in /usr/local/lib/python3.7/dist-packages (from tensorflow==1.15) (0.37.1)\n",
            "Requirement already satisfied: absl-py>=0.7.0 in /usr/local/lib/python3.7/dist-packages (from tensorflow==1.15) (1.1.0)\n",
            "Requirement already satisfied: google-pasta>=0.1.6 in /usr/local/lib/python3.7/dist-packages (from tensorflow==1.15) (0.2.0)\n",
            "Requirement already satisfied: numpy<2.0,>=1.16.0 in /usr/local/lib/python3.7/dist-packages (from tensorflow==1.15) (1.21.6)\n",
            "Collecting tensorboard<1.16.0,>=1.15.0\n",
            "  Downloading tensorboard-1.15.0-py3-none-any.whl (3.8 MB)\n",
            "\u001b[K     |████████████████████████████████| 3.8 MB 38.1 MB/s \n",
            "\u001b[?25hRequirement already satisfied: wrapt>=1.11.1 in /usr/local/lib/python3.7/dist-packages (from tensorflow==1.15) (1.14.1)\n",
            "Collecting keras-applications>=1.0.8\n",
            "  Downloading Keras_Applications-1.0.8-py3-none-any.whl (50 kB)\n",
            "\u001b[K     |████████████████████████████████| 50 kB 9.2 MB/s \n",
            "\u001b[?25hRequirement already satisfied: keras-preprocessing>=1.0.5 in /usr/local/lib/python3.7/dist-packages (from tensorflow==1.15) (1.1.2)\n",
            "Requirement already satisfied: six>=1.10.0 in /usr/local/lib/python3.7/dist-packages (from tensorflow==1.15) (1.15.0)\n",
            "Requirement already satisfied: grpcio>=1.8.6 in /usr/local/lib/python3.7/dist-packages (from tensorflow==1.15) (1.46.3)\n",
            "Requirement already satisfied: opt-einsum>=2.3.2 in /usr/local/lib/python3.7/dist-packages (from tensorflow==1.15) (3.3.0)\n",
            "Collecting gast==0.2.2\n",
            "  Downloading gast-0.2.2.tar.gz (10 kB)\n",
            "Requirement already satisfied: astor>=0.6.0 in /usr/local/lib/python3.7/dist-packages (from tensorflow==1.15) (0.8.1)\n",
            "Collecting tensorflow-estimator==1.15.1\n",
            "  Downloading tensorflow_estimator-1.15.1-py2.py3-none-any.whl (503 kB)\n",
            "\u001b[K     |████████████████████████████████| 503 kB 60.0 MB/s \n",
            "\u001b[?25hRequirement already satisfied: h5py in /usr/local/lib/python3.7/dist-packages (from keras-applications>=1.0.8->tensorflow==1.15) (3.1.0)\n",
            "Requirement already satisfied: markdown>=2.6.8 in /usr/local/lib/python3.7/dist-packages (from tensorboard<1.16.0,>=1.15.0->tensorflow==1.15) (3.3.7)\n",
            "Requirement already satisfied: setuptools>=41.0.0 in /usr/local/lib/python3.7/dist-packages (from tensorboard<1.16.0,>=1.15.0->tensorflow==1.15) (57.4.0)\n",
            "Requirement already satisfied: werkzeug>=0.11.15 in /usr/local/lib/python3.7/dist-packages (from tensorboard<1.16.0,>=1.15.0->tensorflow==1.15) (1.0.1)\n",
            "Requirement already satisfied: importlib-metadata>=4.4 in /usr/local/lib/python3.7/dist-packages (from markdown>=2.6.8->tensorboard<1.16.0,>=1.15.0->tensorflow==1.15) (4.11.4)\n",
            "Requirement already satisfied: typing-extensions>=3.6.4 in /usr/local/lib/python3.7/dist-packages (from importlib-metadata>=4.4->markdown>=2.6.8->tensorboard<1.16.0,>=1.15.0->tensorflow==1.15) (4.1.1)\n",
            "Requirement already satisfied: zipp>=0.5 in /usr/local/lib/python3.7/dist-packages (from importlib-metadata>=4.4->markdown>=2.6.8->tensorboard<1.16.0,>=1.15.0->tensorflow==1.15) (3.8.0)\n",
            "Requirement already satisfied: cached-property in /usr/local/lib/python3.7/dist-packages (from h5py->keras-applications>=1.0.8->tensorflow==1.15) (1.5.2)\n",
            "Building wheels for collected packages: gast\n",
            "  Building wheel for gast (setup.py) ... \u001b[?25l\u001b[?25hdone\n",
            "  Created wheel for gast: filename=gast-0.2.2-py3-none-any.whl size=7554 sha256=e75692f9060e151483306e91048a4fbeda1fbeaa7d60159ba7331c152d3033e0\n",
            "  Stored in directory: /root/.cache/pip/wheels/21/7f/02/420f32a803f7d0967b48dd823da3f558c5166991bfd204eef3\n",
            "Successfully built gast\n",
            "Installing collected packages: tensorflow-estimator, tensorboard, keras-applications, gast, tensorflow\n",
            "  Attempting uninstall: tensorflow-estimator\n",
            "    Found existing installation: tensorflow-estimator 2.8.0\n",
            "    Uninstalling tensorflow-estimator-2.8.0:\n",
            "      Successfully uninstalled tensorflow-estimator-2.8.0\n",
            "  Attempting uninstall: tensorboard\n",
            "    Found existing installation: tensorboard 2.8.0\n",
            "    Uninstalling tensorboard-2.8.0:\n",
            "      Successfully uninstalled tensorboard-2.8.0\n",
            "  Attempting uninstall: gast\n",
            "    Found existing installation: gast 0.5.3\n",
            "    Uninstalling gast-0.5.3:\n",
            "      Successfully uninstalled gast-0.5.3\n",
            "\u001b[31mERROR: pip's dependency resolver does not currently take into account all the packages that are installed. This behaviour is the source of the following dependency conflicts.\n",
            "tensorflow-probability 0.16.0 requires gast>=0.3.2, but you have gast 0.2.2 which is incompatible.\n",
            "kapre 0.3.7 requires tensorflow>=2.0.0, but you have tensorflow 1.15.0 which is incompatible.\u001b[0m\n",
            "Successfully installed gast-0.2.2 keras-applications-1.0.8 tensorboard-1.15.0 tensorflow-1.15.0 tensorflow-estimator-1.15.1\n"
          ]
        }
      ]
    },
    {
      "cell_type": "code",
      "source": [
        "from google.colab import drive\n",
        "drive.mount('/content/drive')"
      ],
      "metadata": {
        "colab": {
          "base_uri": "https://localhost:8080/"
        },
        "id": "edamYckPDDyV",
        "outputId": "53ddec5d-1e1e-4ff3-dd85-ea5b6447d755"
      },
      "execution_count": 3,
      "outputs": [
        {
          "output_type": "stream",
          "name": "stdout",
          "text": [
            "Mounted at /content/drive\n"
          ]
        }
      ]
    },
    {
      "cell_type": "code",
      "source": [
        "import tensorflow as tf\n",
        "import numpy as np"
      ],
      "metadata": {
        "id": "0RiUuZxQE98k"
      },
      "execution_count": 4,
      "outputs": []
    },
    {
      "cell_type": "code",
      "source": [
        "import pandas as pd\n",
        "loaded_data = pd.read_csv('/content/drive/MyDrive/data/data2/diabetes.csv', sep=',')\n",
        "loaded_data.head()"
      ],
      "metadata": {
        "colab": {
          "base_uri": "https://localhost:8080/",
          "height": 206
        },
        "id": "5e5kL_-jE9LG",
        "outputId": "cf1ffafe-5afb-4309-d45a-ef8d8db1832b"
      },
      "execution_count": 5,
      "outputs": [
        {
          "output_type": "execute_result",
          "data": {
            "text/plain": [
              "   -0.294118  0.487437  0.180328  -0.292929         0  0.00149028  -0.53117  \\\n",
              "0  -0.882353 -0.145729  0.081967  -0.414141  0.000000   -0.207153 -0.766866   \n",
              "1  -0.058824  0.839196  0.049180   0.000000  0.000000   -0.305514 -0.492741   \n",
              "2  -0.882353 -0.105528  0.081967  -0.535354 -0.777778   -0.162444 -0.923997   \n",
              "3   0.000000  0.376884 -0.344262  -0.292929 -0.602837    0.284650  0.887276   \n",
              "4  -0.411765  0.165829  0.213115   0.000000  0.000000   -0.236960 -0.894962   \n",
              "\n",
              "   -0.0333333  0.1  \n",
              "0   -0.666667    1  \n",
              "1   -0.633333    0  \n",
              "2    0.000000    1  \n",
              "3   -0.600000    0  \n",
              "4   -0.700000    1  "
            ],
            "text/html": [
              "\n",
              "  <div id=\"df-325476c4-1491-4f35-8203-75f3704b0b26\">\n",
              "    <div class=\"colab-df-container\">\n",
              "      <div>\n",
              "<style scoped>\n",
              "    .dataframe tbody tr th:only-of-type {\n",
              "        vertical-align: middle;\n",
              "    }\n",
              "\n",
              "    .dataframe tbody tr th {\n",
              "        vertical-align: top;\n",
              "    }\n",
              "\n",
              "    .dataframe thead th {\n",
              "        text-align: right;\n",
              "    }\n",
              "</style>\n",
              "<table border=\"1\" class=\"dataframe\">\n",
              "  <thead>\n",
              "    <tr style=\"text-align: right;\">\n",
              "      <th></th>\n",
              "      <th>-0.294118</th>\n",
              "      <th>0.487437</th>\n",
              "      <th>0.180328</th>\n",
              "      <th>-0.292929</th>\n",
              "      <th>0</th>\n",
              "      <th>0.00149028</th>\n",
              "      <th>-0.53117</th>\n",
              "      <th>-0.0333333</th>\n",
              "      <th>0.1</th>\n",
              "    </tr>\n",
              "  </thead>\n",
              "  <tbody>\n",
              "    <tr>\n",
              "      <th>0</th>\n",
              "      <td>-0.882353</td>\n",
              "      <td>-0.145729</td>\n",
              "      <td>0.081967</td>\n",
              "      <td>-0.414141</td>\n",
              "      <td>0.000000</td>\n",
              "      <td>-0.207153</td>\n",
              "      <td>-0.766866</td>\n",
              "      <td>-0.666667</td>\n",
              "      <td>1</td>\n",
              "    </tr>\n",
              "    <tr>\n",
              "      <th>1</th>\n",
              "      <td>-0.058824</td>\n",
              "      <td>0.839196</td>\n",
              "      <td>0.049180</td>\n",
              "      <td>0.000000</td>\n",
              "      <td>0.000000</td>\n",
              "      <td>-0.305514</td>\n",
              "      <td>-0.492741</td>\n",
              "      <td>-0.633333</td>\n",
              "      <td>0</td>\n",
              "    </tr>\n",
              "    <tr>\n",
              "      <th>2</th>\n",
              "      <td>-0.882353</td>\n",
              "      <td>-0.105528</td>\n",
              "      <td>0.081967</td>\n",
              "      <td>-0.535354</td>\n",
              "      <td>-0.777778</td>\n",
              "      <td>-0.162444</td>\n",
              "      <td>-0.923997</td>\n",
              "      <td>0.000000</td>\n",
              "      <td>1</td>\n",
              "    </tr>\n",
              "    <tr>\n",
              "      <th>3</th>\n",
              "      <td>0.000000</td>\n",
              "      <td>0.376884</td>\n",
              "      <td>-0.344262</td>\n",
              "      <td>-0.292929</td>\n",
              "      <td>-0.602837</td>\n",
              "      <td>0.284650</td>\n",
              "      <td>0.887276</td>\n",
              "      <td>-0.600000</td>\n",
              "      <td>0</td>\n",
              "    </tr>\n",
              "    <tr>\n",
              "      <th>4</th>\n",
              "      <td>-0.411765</td>\n",
              "      <td>0.165829</td>\n",
              "      <td>0.213115</td>\n",
              "      <td>0.000000</td>\n",
              "      <td>0.000000</td>\n",
              "      <td>-0.236960</td>\n",
              "      <td>-0.894962</td>\n",
              "      <td>-0.700000</td>\n",
              "      <td>1</td>\n",
              "    </tr>\n",
              "  </tbody>\n",
              "</table>\n",
              "</div>\n",
              "      <button class=\"colab-df-convert\" onclick=\"convertToInteractive('df-325476c4-1491-4f35-8203-75f3704b0b26')\"\n",
              "              title=\"Convert this dataframe to an interactive table.\"\n",
              "              style=\"display:none;\">\n",
              "        \n",
              "  <svg xmlns=\"http://www.w3.org/2000/svg\" height=\"24px\"viewBox=\"0 0 24 24\"\n",
              "       width=\"24px\">\n",
              "    <path d=\"M0 0h24v24H0V0z\" fill=\"none\"/>\n",
              "    <path d=\"M18.56 5.44l.94 2.06.94-2.06 2.06-.94-2.06-.94-.94-2.06-.94 2.06-2.06.94zm-11 1L8.5 8.5l.94-2.06 2.06-.94-2.06-.94L8.5 2.5l-.94 2.06-2.06.94zm10 10l.94 2.06.94-2.06 2.06-.94-2.06-.94-.94-2.06-.94 2.06-2.06.94z\"/><path d=\"M17.41 7.96l-1.37-1.37c-.4-.4-.92-.59-1.43-.59-.52 0-1.04.2-1.43.59L10.3 9.45l-7.72 7.72c-.78.78-.78 2.05 0 2.83L4 21.41c.39.39.9.59 1.41.59.51 0 1.02-.2 1.41-.59l7.78-7.78 2.81-2.81c.8-.78.8-2.07 0-2.86zM5.41 20L4 18.59l7.72-7.72 1.47 1.35L5.41 20z\"/>\n",
              "  </svg>\n",
              "      </button>\n",
              "      \n",
              "  <style>\n",
              "    .colab-df-container {\n",
              "      display:flex;\n",
              "      flex-wrap:wrap;\n",
              "      gap: 12px;\n",
              "    }\n",
              "\n",
              "    .colab-df-convert {\n",
              "      background-color: #E8F0FE;\n",
              "      border: none;\n",
              "      border-radius: 50%;\n",
              "      cursor: pointer;\n",
              "      display: none;\n",
              "      fill: #1967D2;\n",
              "      height: 32px;\n",
              "      padding: 0 0 0 0;\n",
              "      width: 32px;\n",
              "    }\n",
              "\n",
              "    .colab-df-convert:hover {\n",
              "      background-color: #E2EBFA;\n",
              "      box-shadow: 0px 1px 2px rgba(60, 64, 67, 0.3), 0px 1px 3px 1px rgba(60, 64, 67, 0.15);\n",
              "      fill: #174EA6;\n",
              "    }\n",
              "\n",
              "    [theme=dark] .colab-df-convert {\n",
              "      background-color: #3B4455;\n",
              "      fill: #D2E3FC;\n",
              "    }\n",
              "\n",
              "    [theme=dark] .colab-df-convert:hover {\n",
              "      background-color: #434B5C;\n",
              "      box-shadow: 0px 1px 3px 1px rgba(0, 0, 0, 0.15);\n",
              "      filter: drop-shadow(0px 1px 2px rgba(0, 0, 0, 0.3));\n",
              "      fill: #FFFFFF;\n",
              "    }\n",
              "  </style>\n",
              "\n",
              "      <script>\n",
              "        const buttonEl =\n",
              "          document.querySelector('#df-325476c4-1491-4f35-8203-75f3704b0b26 button.colab-df-convert');\n",
              "        buttonEl.style.display =\n",
              "          google.colab.kernel.accessAllowed ? 'block' : 'none';\n",
              "\n",
              "        async function convertToInteractive(key) {\n",
              "          const element = document.querySelector('#df-325476c4-1491-4f35-8203-75f3704b0b26');\n",
              "          const dataTable =\n",
              "            await google.colab.kernel.invokeFunction('convertToInteractive',\n",
              "                                                     [key], {});\n",
              "          if (!dataTable) return;\n",
              "\n",
              "          const docLinkHtml = 'Like what you see? Visit the ' +\n",
              "            '<a target=\"_blank\" href=https://colab.research.google.com/notebooks/data_table.ipynb>data table notebook</a>'\n",
              "            + ' to learn more about interactive tables.';\n",
              "          element.innerHTML = '';\n",
              "          dataTable['output_type'] = 'display_data';\n",
              "          await google.colab.output.renderOutput(dataTable, element);\n",
              "          const docLink = document.createElement('div');\n",
              "          docLink.innerHTML = docLinkHtml;\n",
              "          element.appendChild(docLink);\n",
              "        }\n",
              "      </script>\n",
              "    </div>\n",
              "  </div>\n",
              "  "
            ]
          },
          "metadata": {},
          "execution_count": 5
        }
      ]
    },
    {
      "cell_type": "code",
      "execution_count": 6,
      "metadata": {
        "colab": {
          "base_uri": "https://localhost:8080/"
        },
        "id": "4P8l1KzQsgiS",
        "outputId": "7ed96c40-731f-4d07-b500-948d368bea0c"
      },
      "outputs": [
        {
          "output_type": "stream",
          "name": "stdout",
          "text": [
            "loaded_data =  (758, 9)\n",
            "x_data =  (758, 8) , t_data =  (758, 1)\n"
          ]
        }
      ],
      "source": [
        "x_data = loaded_data.iloc[ :, 0:-1]\n",
        "t_data = loaded_data.iloc[ :, [-1]]\n",
        "\n",
        "print(\"loaded_data = \", loaded_data.shape)\n",
        "print(\"x_data = \", x_data.shape, \", t_data = \", t_data.shape)\n",
        "\n",
        "#error : (slice(None, None, None), slice(0, -1, None))' is an invalid key\n",
        "#sol : iloc 출처 : https://stackoverflow.com/questions/55291667/getting-typeerror-slicenone-none-none-0-is-an-invalid-key/71027973#71027973"
      ]
    },
    {
      "cell_type": "code",
      "source": [
        "X = tf.placeholder(tf.float32, [None, 8])  # 8개 입력노드\n",
        "T = tf.placeholder(tf.float32, [None, 1])  # 1개 정답노드\n",
        "\n",
        "W = tf.Variable(tf.random_normal([8, 1]))  # 8X1 가중치노드\n",
        "b = tf.Variable(tf.random_normal([1]))     # 1개 바이어스 노드"
      ],
      "metadata": {
        "id": "tU3BB_3csjkQ"
      },
      "execution_count": 7,
      "outputs": []
    },
    {
      "cell_type": "code",
      "source": [
        "z = tf.matmul(X, W) + b  # 선형회귀 값 z\n",
        "\n",
        "y = tf.sigmoid(z)    # 시그모이드로 계산 값\n",
        "\n",
        "# 손실함수는 Cross-Entropy \n",
        "loss = -tf.reduce_mean( T*tf.log(y) + (1-T)*tf.log(1-y) ) "
      ],
      "metadata": {
        "id": "Ekqoc6jws6uD"
      },
      "execution_count": 8,
      "outputs": []
    },
    {
      "cell_type": "code",
      "source": [
        "learning_rate = 0.01    # 학습율\n",
        "\n",
        "optimizer = tf.train.GradientDescentOptimizer(learning_rate)\n",
        "\n",
        "train = optimizer.minimize(loss)  "
      ],
      "metadata": {
        "id": "iFCB-ToxGazA"
      },
      "execution_count": 9,
      "outputs": []
    },
    {
      "cell_type": "code",
      "source": [
        "print(\"train값\", train)"
      ],
      "metadata": {
        "colab": {
          "base_uri": "https://localhost:8080/"
        },
        "id": "4Rukr6NDGpCa",
        "outputId": "54359d65-c8ab-4f51-cdcd-bf8896cf9aac"
      },
      "execution_count": 10,
      "outputs": [
        {
          "output_type": "stream",
          "name": "stdout",
          "text": [
            "train값 name: \"GradientDescent\"\n",
            "op: \"NoOp\"\n",
            "input: \"^GradientDescent/update_Variable/ApplyGradientDescent\"\n",
            "input: \"^GradientDescent/update_Variable_1/ApplyGradientDescent\"\n",
            "\n"
          ]
        }
      ]
    },
    {
      "cell_type": "code",
      "source": [
        "# 정확성 검사, True if y > 0.5 else False\n",
        "\n",
        "# y shape 은 (759X8) (8X1) = 759X1, 즉 759개의 모든 데이터에 대해 y > 0.5 검사함\n",
        "# 그러므로 predicted 또한 759 개의 1 또는 0 을 가짐\n",
        "predicted = tf.cast(y > 0.5, dtype=tf.float32)  \n",
        "\n",
        "\n",
        "# predicted 와 T 같으면 True 를 리턴하므로 cast 에 의해서 1로 강제 변환, 그렇지 않으면 0으로 변환해서\n",
        "# accuracy 는 총 759 개의 1 또는 0 을 가짐. 이것을 전체 갯수 759로 나눔\n",
        "accuracy = tf.reduce_mean(tf.cast(tf.equal(predicted, T), dtype=tf.float32))"
      ],
      "metadata": {
        "id": "BnrdLH2ZGcgM"
      },
      "execution_count": 11,
      "outputs": []
    },
    {
      "cell_type": "code",
      "source": [
        "with  tf.Session()  as sess:\n",
        "    \n",
        "    sess.run(tf.global_variables_initializer())  # 변수 노드(tf.Variable) 초기화\n",
        "\n",
        "    for step in range(20001):\n",
        "        loss_val, _ = sess.run([loss, train], feed_dict={X: x_data, T: t_data})    \n",
        "        \n",
        "        \n",
        "        if step % 500 == 0:\n",
        "            print(\"step = \", step, \", loss_val = \", loss_val)        \n",
        "    \n",
        "    # Accuracy 확인\n",
        "    y_val, predicted_val, accuracy_val = sess.run([y, predicted, accuracy], feed_dict={X: x_data, T: t_data})\n",
        "    \n",
        "    \n",
        "    print(\"\\ny_val.shape = \", y_val.shape, \", predicted_val = \", predicted_val.shape)    \n",
        "    print(\"\\nAccuracy = \", accuracy_val)"
      ],
      "metadata": {
        "colab": {
          "base_uri": "https://localhost:8080/"
        },
        "id": "B_E3ZkZsGgB9",
        "outputId": "23cc249c-0bf4-4dc5-fe19-de6f407e06b1"
      },
      "execution_count": 15,
      "outputs": [
        {
          "output_type": "stream",
          "name": "stdout",
          "text": [
            "step =  0 , loss_val =  0.8806674\n",
            "step =  500 , loss_val =  0.78304803\n",
            "step =  1000 , loss_val =  0.7251702\n",
            "step =  1500 , loss_val =  0.6781905\n",
            "step =  2000 , loss_val =  0.6402506\n",
            "step =  2500 , loss_val =  0.6098406\n",
            "step =  3000 , loss_val =  0.5855654\n",
            "step =  3500 , loss_val =  0.566197\n",
            "step =  4000 , loss_val =  0.5507017\n",
            "step =  4500 , loss_val =  0.53824174\n",
            "step =  5000 , loss_val =  0.52815545\n",
            "step =  5500 , loss_val =  0.5199299\n",
            "step =  6000 , loss_val =  0.5131703\n",
            "step =  6500 , loss_val =  0.50757366\n",
            "step =  7000 , loss_val =  0.5029066\n",
            "step =  7500 , loss_val =  0.49898842\n",
            "step =  8000 , loss_val =  0.49567825\n",
            "step =  8500 , loss_val =  0.4928652\n",
            "step =  9000 , loss_val =  0.49046174\n",
            "step =  9500 , loss_val =  0.48839772\n",
            "step =  10000 , loss_val =  0.48661682\n",
            "step =  10500 , loss_val =  0.48507348\n",
            "step =  11000 , loss_val =  0.4837305\n",
            "step =  11500 , loss_val =  0.48255724\n",
            "step =  12000 , loss_val =  0.4815286\n",
            "step =  12500 , loss_val =  0.48062354\n",
            "step =  13000 , loss_val =  0.47982463\n",
            "step =  13500 , loss_val =  0.47911724\n",
            "step =  14000 , loss_val =  0.47848886\n",
            "step =  14500 , loss_val =  0.47792917\n",
            "step =  15000 , loss_val =  0.4774293\n",
            "step =  15500 , loss_val =  0.4769816\n",
            "step =  16000 , loss_val =  0.47657964\n",
            "step =  16500 , loss_val =  0.47621778\n",
            "step =  17000 , loss_val =  0.47589126\n",
            "step =  17500 , loss_val =  0.475596\n",
            "step =  18000 , loss_val =  0.47532836\n",
            "step =  18500 , loss_val =  0.4750851\n",
            "step =  19000 , loss_val =  0.47486362\n",
            "step =  19500 , loss_val =  0.47466156\n",
            "step =  20000 , loss_val =  0.47447675\n",
            "\n",
            "y_val.shape =  (758, 1) , predicted_val =  (758, 1)\n",
            "\n",
            "Accuracy =  0.7730871\n"
          ]
        }
      ]
    },
    {
      "cell_type": "code",
      "source": [
        "with  tf.Session()  as sess:\n",
        "    \n",
        "    sess.run(tf.global_variables_initializer())  # 변수 노드(tf.Variable) 초기화\n",
        "\n",
        "    for step in range(20001):\n",
        "        loss_val, _ = sess.run([loss, train], feed_dict={X: x_data, T: t_data})    \n",
        "        \n",
        "        \n",
        "        if step % 500 == 0:\n",
        "            print(\"step = \", step, \", loss_val = \", loss_val)        \n",
        "    \n",
        "    # Accuracy 확인\n",
        "    y_val, predicted_val, accuracy_val = sess.run([y, predicted, accuracy], feed_dict={X: x_data, T: t_data})"
      ],
      "metadata": {
        "id": "OFCZ9wAwHiMZ"
      },
      "execution_count": null,
      "outputs": []
    },
    {
      "cell_type": "code",
      "source": [
        "#29강\n",
        "import tensorflow as tf\n",
        "import numpy as np"
      ],
      "metadata": {
        "id": "agjgWMXlHMH_"
      },
      "execution_count": 19,
      "outputs": []
    },
    {
      "cell_type": "code",
      "source": [
        "import pandas as pd\n",
        "loaded_data2 = pd.read_csv('/content/drive/MyDrive/data/data2/data-01.csv', sep=',')\n",
        "loaded_data2.head()"
      ],
      "metadata": {
        "colab": {
          "base_uri": "https://localhost:8080/",
          "height": 206
        },
        "id": "kq9Qp15KIy6y",
        "outputId": "80b0886e-4d39-4cd0-e6f8-a37cde8d0609"
      },
      "execution_count": 25,
      "outputs": [
        {
          "output_type": "execute_result",
          "data": {
            "text/plain": [
              "   73  80   75  152\n",
              "0  93  88   93  185\n",
              "1  89  91   90  180\n",
              "2  96  98  100  196\n",
              "3  73  66   70  142\n",
              "4  53  46   55  101"
            ],
            "text/html": [
              "\n",
              "  <div id=\"df-ab267d7c-7c6b-459f-adca-18b1489cebc3\">\n",
              "    <div class=\"colab-df-container\">\n",
              "      <div>\n",
              "<style scoped>\n",
              "    .dataframe tbody tr th:only-of-type {\n",
              "        vertical-align: middle;\n",
              "    }\n",
              "\n",
              "    .dataframe tbody tr th {\n",
              "        vertical-align: top;\n",
              "    }\n",
              "\n",
              "    .dataframe thead th {\n",
              "        text-align: right;\n",
              "    }\n",
              "</style>\n",
              "<table border=\"1\" class=\"dataframe\">\n",
              "  <thead>\n",
              "    <tr style=\"text-align: right;\">\n",
              "      <th></th>\n",
              "      <th>73</th>\n",
              "      <th>80</th>\n",
              "      <th>75</th>\n",
              "      <th>152</th>\n",
              "    </tr>\n",
              "  </thead>\n",
              "  <tbody>\n",
              "    <tr>\n",
              "      <th>0</th>\n",
              "      <td>93</td>\n",
              "      <td>88</td>\n",
              "      <td>93</td>\n",
              "      <td>185</td>\n",
              "    </tr>\n",
              "    <tr>\n",
              "      <th>1</th>\n",
              "      <td>89</td>\n",
              "      <td>91</td>\n",
              "      <td>90</td>\n",
              "      <td>180</td>\n",
              "    </tr>\n",
              "    <tr>\n",
              "      <th>2</th>\n",
              "      <td>96</td>\n",
              "      <td>98</td>\n",
              "      <td>100</td>\n",
              "      <td>196</td>\n",
              "    </tr>\n",
              "    <tr>\n",
              "      <th>3</th>\n",
              "      <td>73</td>\n",
              "      <td>66</td>\n",
              "      <td>70</td>\n",
              "      <td>142</td>\n",
              "    </tr>\n",
              "    <tr>\n",
              "      <th>4</th>\n",
              "      <td>53</td>\n",
              "      <td>46</td>\n",
              "      <td>55</td>\n",
              "      <td>101</td>\n",
              "    </tr>\n",
              "  </tbody>\n",
              "</table>\n",
              "</div>\n",
              "      <button class=\"colab-df-convert\" onclick=\"convertToInteractive('df-ab267d7c-7c6b-459f-adca-18b1489cebc3')\"\n",
              "              title=\"Convert this dataframe to an interactive table.\"\n",
              "              style=\"display:none;\">\n",
              "        \n",
              "  <svg xmlns=\"http://www.w3.org/2000/svg\" height=\"24px\"viewBox=\"0 0 24 24\"\n",
              "       width=\"24px\">\n",
              "    <path d=\"M0 0h24v24H0V0z\" fill=\"none\"/>\n",
              "    <path d=\"M18.56 5.44l.94 2.06.94-2.06 2.06-.94-2.06-.94-.94-2.06-.94 2.06-2.06.94zm-11 1L8.5 8.5l.94-2.06 2.06-.94-2.06-.94L8.5 2.5l-.94 2.06-2.06.94zm10 10l.94 2.06.94-2.06 2.06-.94-2.06-.94-.94-2.06-.94 2.06-2.06.94z\"/><path d=\"M17.41 7.96l-1.37-1.37c-.4-.4-.92-.59-1.43-.59-.52 0-1.04.2-1.43.59L10.3 9.45l-7.72 7.72c-.78.78-.78 2.05 0 2.83L4 21.41c.39.39.9.59 1.41.59.51 0 1.02-.2 1.41-.59l7.78-7.78 2.81-2.81c.8-.78.8-2.07 0-2.86zM5.41 20L4 18.59l7.72-7.72 1.47 1.35L5.41 20z\"/>\n",
              "  </svg>\n",
              "      </button>\n",
              "      \n",
              "  <style>\n",
              "    .colab-df-container {\n",
              "      display:flex;\n",
              "      flex-wrap:wrap;\n",
              "      gap: 12px;\n",
              "    }\n",
              "\n",
              "    .colab-df-convert {\n",
              "      background-color: #E8F0FE;\n",
              "      border: none;\n",
              "      border-radius: 50%;\n",
              "      cursor: pointer;\n",
              "      display: none;\n",
              "      fill: #1967D2;\n",
              "      height: 32px;\n",
              "      padding: 0 0 0 0;\n",
              "      width: 32px;\n",
              "    }\n",
              "\n",
              "    .colab-df-convert:hover {\n",
              "      background-color: #E2EBFA;\n",
              "      box-shadow: 0px 1px 2px rgba(60, 64, 67, 0.3), 0px 1px 3px 1px rgba(60, 64, 67, 0.15);\n",
              "      fill: #174EA6;\n",
              "    }\n",
              "\n",
              "    [theme=dark] .colab-df-convert {\n",
              "      background-color: #3B4455;\n",
              "      fill: #D2E3FC;\n",
              "    }\n",
              "\n",
              "    [theme=dark] .colab-df-convert:hover {\n",
              "      background-color: #434B5C;\n",
              "      box-shadow: 0px 1px 3px 1px rgba(0, 0, 0, 0.15);\n",
              "      filter: drop-shadow(0px 1px 2px rgba(0, 0, 0, 0.3));\n",
              "      fill: #FFFFFF;\n",
              "    }\n",
              "  </style>\n",
              "\n",
              "      <script>\n",
              "        const buttonEl =\n",
              "          document.querySelector('#df-ab267d7c-7c6b-459f-adca-18b1489cebc3 button.colab-df-convert');\n",
              "        buttonEl.style.display =\n",
              "          google.colab.kernel.accessAllowed ? 'block' : 'none';\n",
              "\n",
              "        async function convertToInteractive(key) {\n",
              "          const element = document.querySelector('#df-ab267d7c-7c6b-459f-adca-18b1489cebc3');\n",
              "          const dataTable =\n",
              "            await google.colab.kernel.invokeFunction('convertToInteractive',\n",
              "                                                     [key], {});\n",
              "          if (!dataTable) return;\n",
              "\n",
              "          const docLinkHtml = 'Like what you see? Visit the ' +\n",
              "            '<a target=\"_blank\" href=https://colab.research.google.com/notebooks/data_table.ipynb>data table notebook</a>'\n",
              "            + ' to learn more about interactive tables.';\n",
              "          element.innerHTML = '';\n",
              "          dataTable['output_type'] = 'display_data';\n",
              "          await google.colab.output.renderOutput(dataTable, element);\n",
              "          const docLink = document.createElement('div');\n",
              "          docLink.innerHTML = docLinkHtml;\n",
              "          element.appendChild(docLink);\n",
              "        }\n",
              "      </script>\n",
              "    </div>\n",
              "  </div>\n",
              "  "
            ]
          },
          "metadata": {},
          "execution_count": 25
        }
      ]
    },
    {
      "cell_type": "code",
      "source": [
        "x_data = loaded_data2.iloc[ :, 0:-1]\n",
        "t_data = loaded_data2.iloc[ :, [-1]]\n",
        "\n",
        "print(\"x_data.shape = \", x_data.shape)\n",
        "print(\"t_data.shape = \", t_data.shape)"
      ],
      "metadata": {
        "colab": {
          "base_uri": "https://localhost:8080/"
        },
        "id": "lYRva7UmI2Gc",
        "outputId": "08331fc5-16f1-4671-a61e-220c1b9e6cdc"
      },
      "execution_count": 26,
      "outputs": [
        {
          "output_type": "stream",
          "name": "stdout",
          "text": [
            "x_data.shape =  (24, 3)\n",
            "t_data.shape =  (24, 1)\n"
          ]
        }
      ]
    },
    {
      "cell_type": "code",
      "source": [
        "W = tf.Variable(tf.random_normal([3, 1]))  # 가중치 노드\n",
        "b = tf.Variable(tf.random_normal([1]))     # 바이어스 노드\n",
        "\n",
        "X = tf.placeholder(tf.float32, [None, 3])  # None 은 총 데이터 갯수\n",
        "T = tf.placeholder(tf.float32, [None, 1])  # 정답데이터 노드\n",
        "y = tf.matmul(X, W) + b  # 현재 X, W, b, 를 바탕으로 계산된 값\n",
        "\n",
        "loss = tf.reduce_mean(tf.square(y - T))  # MSE 손실함수 정의\n",
        "learning_rate = 1e-5    # 학습율\n",
        "\n",
        "optimizer = tf.train.GradientDescentOptimizer(learning_rate)\n",
        "\n",
        "train = optimizer.minimize(loss)  "
      ],
      "metadata": {
        "id": "6LKnGoOWIg2o"
      },
      "execution_count": 41,
      "outputs": []
    },
    {
      "cell_type": "code",
      "source": [
        "with  tf.Session()  as sess:\n",
        "    \n",
        "    sess.run(tf.global_variables_initializer())  # 변수 노드(tf.Variable) 초기화\n",
        "\n",
        "    for step in range(8001):\n",
        "      \n",
        "        loss_val, y_val, _ = sess.run([loss, y, train], feed_dict={X: x_data, T: t_data})    \n",
        "        \n",
        "        \n",
        "        if step % 400 == 0:\n",
        "            print(\"step = \", step, \", loss_val = \", loss_val)             \n",
        "    \n",
        "    print(\"\\nPrediction is \", sess.run(y, feed_dict={X: [ [100, 98, 81] ]}))  "
      ],
      "metadata": {
        "colab": {
          "base_uri": "https://localhost:8080/"
        },
        "id": "jKGbBdDyIitM",
        "outputId": "6afd0a8d-930a-4ada-8323-67d38eb84ec2"
      },
      "execution_count": 28,
      "outputs": [
        {
          "output_type": "stream",
          "name": "stdout",
          "text": [
            "step =  0 , loss_val =  142.92792\n",
            "step =  400 , loss_val =  20.363752\n",
            "step =  800 , loss_val =  17.787987\n",
            "step =  1200 , loss_val =  15.692184\n",
            "step =  1600 , loss_val =  13.985924\n",
            "step =  2000 , loss_val =  12.596133\n",
            "step =  2400 , loss_val =  11.463623\n",
            "step =  2800 , loss_val =  10.54041\n",
            "step =  3200 , loss_val =  9.78761\n",
            "step =  3600 , loss_val =  9.173551\n",
            "step =  4000 , loss_val =  8.672594\n",
            "step =  4400 , loss_val =  8.263786\n",
            "step =  4800 , loss_val =  7.930136\n",
            "step =  5200 , loss_val =  7.6577644\n",
            "step =  5600 , loss_val =  7.4353867\n",
            "step =  6000 , loss_val =  7.2538095\n",
            "step =  6400 , loss_val =  7.1055255\n",
            "step =  6800 , loss_val =  6.9843917\n",
            "step =  7200 , loss_val =  6.8854537\n",
            "step =  7600 , loss_val =  6.8046374\n",
            "step =  8000 , loss_val =  6.7385864\n",
            "\n",
            "Prediction is  [[180.14014]]\n"
          ]
        }
      ]
    },
    {
      "cell_type": "code",
      "source": [
        "with  tf.Session()  as sess:\n",
        "    \n",
        "    sess.run(tf.global_variables_initializer())  # 변수 노드(tf.Variable) 초기화\n",
        "\n",
        "    for step in range(801):\n",
        "          \n",
        "        loss_val, y_val, _ = sess.run([loss, y, train], feed_dict={X: x_data, T: t_data})    \n",
        "        #feed_dict의 값이 sess.run의 loss, y, train으로 입력이 되어서, 연산을 수행하고,\n",
        "        #그 연산 값은 loss는 loss_val로, y값은 y_val로, train값은 _로 저장이 된다.\n",
        "        if step % 400 == 0:\n",
        "            print(\"step = \", step, \", loss_val = \", loss_val)             \n",
        "            print(\"y_val값\",y_val)\n",
        "    print(\"\\nPrediction is \", sess.run(y, feed_dict={X: [ [100, 98, 81] ]}))  "
      ],
      "metadata": {
        "colab": {
          "base_uri": "https://localhost:8080/"
        },
        "id": "sC0dMVy_JjOS",
        "outputId": "f2d5f823-fd9f-4950-a943-d358b9095f86"
      },
      "execution_count": 43,
      "outputs": [
        {
          "output_type": "stream",
          "name": "stdout",
          "text": [
            "step =  0 , loss_val =  38147.19\n",
            "y_val값 [[-31.861109]\n",
            " [-38.281754]\n",
            " [-38.76789 ]\n",
            " [-23.198404]\n",
            " [-10.348547]\n",
            " [-27.596048]\n",
            " [-19.020948]\n",
            " [-22.886286]\n",
            " [-13.084024]\n",
            " [-25.836508]\n",
            " [-18.561632]\n",
            " [-42.54071 ]\n",
            " [-38.5951  ]\n",
            " [-25.458673]\n",
            " [-30.612017]\n",
            " [-36.404182]\n",
            " [-34.532043]\n",
            " [-42.9526  ]\n",
            " [-39.07878 ]\n",
            " [-31.919489]\n",
            " [-27.592417]\n",
            " [-32.322876]\n",
            " [-44.16275 ]\n",
            " [-36.56846 ]]\n",
            "step =  400 , loss_val =  28.696527\n",
            "y_val값 [[187.7541  ]\n",
            " [178.99341 ]\n",
            " [197.52861 ]\n",
            " [144.1547  ]\n",
            " [112.32597 ]\n",
            " [149.25204 ]\n",
            " [112.093475]\n",
            " [181.56723 ]\n",
            " [175.40538 ]\n",
            " [144.3931  ]\n",
            " [148.42657 ]\n",
            " [182.2454  ]\n",
            " [148.63089 ]\n",
            " [151.91698 ]\n",
            " [192.0826  ]\n",
            " [141.79129 ]\n",
            " [177.87883 ]\n",
            " [171.65787 ]\n",
            " [153.06606 ]\n",
            " [175.34268 ]\n",
            " [178.21803 ]\n",
            " [165.52106 ]\n",
            " [142.19298 ]\n",
            " [191.45494 ]]\n",
            "step =  800 , loss_val =  22.653318\n",
            "y_val값 [[187.34259 ]\n",
            " [179.35364 ]\n",
            " [197.64412 ]\n",
            " [143.7107  ]\n",
            " [111.40267 ]\n",
            " [149.33112 ]\n",
            " [112.184494]\n",
            " [180.50983 ]\n",
            " [173.68494 ]\n",
            " [144.32375 ]\n",
            " [147.61581 ]\n",
            " [182.87518 ]\n",
            " [149.45251 ]\n",
            " [151.7504  ]\n",
            " [191.53452 ]\n",
            " [142.46223 ]\n",
            " [178.13339 ]\n",
            " [172.52425 ]\n",
            " [153.94699 ]\n",
            " [175.32712 ]\n",
            " [177.65414 ]\n",
            " [165.70726 ]\n",
            " [143.66466 ]\n",
            " [191.38492 ]]\n",
            "\n",
            "Prediction is  [[172.64145]]\n"
          ]
        }
      ]
    },
    {
      "cell_type": "code",
      "source": [
        "y.shape"
      ],
      "metadata": {
        "colab": {
          "base_uri": "https://localhost:8080/"
        },
        "id": "083P6OwHJ7Df",
        "outputId": "fd9b6bf5-6b81-4f5f-ae54-449369679fe6"
      },
      "execution_count": 44,
      "outputs": [
        {
          "output_type": "execute_result",
          "data": {
            "text/plain": [
              "TensorShape([Dimension(None), Dimension(1)])"
            ]
          },
          "metadata": {},
          "execution_count": 44
        }
      ]
    }
  ]
}
