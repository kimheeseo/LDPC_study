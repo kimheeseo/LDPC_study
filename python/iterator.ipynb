{
  "nbformat": 4,
  "nbformat_minor": 0,
  "metadata": {
    "colab": {
      "name": "iterator.ipynb",
      "provenance": [],
      "authorship_tag": "ABX9TyODssNzHl8S8oP5fSZeEtAt",
      "include_colab_link": true
    },
    "kernelspec": {
      "name": "python3",
      "display_name": "Python 3"
    },
    "language_info": {
      "name": "python"
    }
  },
  "cells": [
    {
      "cell_type": "markdown",
      "metadata": {
        "id": "view-in-github",
        "colab_type": "text"
      },
      "source": [
        "<a href=\"https://colab.research.google.com/github/kimheeseo/LDPC_study/blob/main/iterator.ipynb\" target=\"_parent\"><img src=\"https://colab.research.google.com/assets/colab-badge.svg\" alt=\"Open In Colab\"/></a>"
      ]
    },
    {
      "cell_type": "code",
      "execution_count": 2,
      "metadata": {
        "colab": {
          "base_uri": "https://localhost:8080/"
        },
        "id": "B2vc_yIp4qbv",
        "outputId": "514c2295-b753-4653-90e8-4f7cdd2635ab"
      },
      "outputs": [
        {
          "output_type": "stream",
          "name": "stdout",
          "text": [
            "[[10 20 30 40]\n",
            " [50 60 70 80]] \n",
            "\n",
            "A shape == (2, 4) \n",
            "\n"
          ]
        }
      ],
      "source": [
        "import numpy as np\n",
        "A=np.array([[10, 20, 30, 40], [50, 60, 70,80]])\n",
        "print(A,'\\n')\n",
        "print('A shape ==', A.shape,'\\n')"
      ]
    },
    {
      "cell_type": "code",
      "source": [
        "#행렬 A의 iterator 생성\n",
        "it=np.nditer(A,flags=['multi_index'],op_flags=['readwrite'])"
      ],
      "metadata": {
        "id": "yUAuESli42a9"
      },
      "execution_count": 3,
      "outputs": []
    },
    {
      "cell_type": "code",
      "source": [
        "it"
      ],
      "metadata": {
        "colab": {
          "base_uri": "https://localhost:8080/"
        },
        "id": "OqeOYBaR42i0",
        "outputId": "af490743-f115-43b1-ddf4-1adab84a8fc0"
      },
      "execution_count": 4,
      "outputs": [
        {
          "output_type": "execute_result",
          "data": {
            "text/plain": [
              "<numpy.nditer at 0x7f6021b833f0>"
            ]
          },
          "metadata": {},
          "execution_count": 4
        }
      ]
    },
    {
      "cell_type": "code",
      "source": [
        "while not it.finished:\n",
        "  idx=it.multi_index\n",
        "  print('idx값',idx)\n",
        "  print(\"current value =>\", A[idx])\n",
        "  it.iternext()"
      ],
      "metadata": {
        "colab": {
          "base_uri": "https://localhost:8080/"
        },
        "id": "qIouGZKT42mK",
        "outputId": "3495f065-035a-4aa6-aa30-65bf7622afd6"
      },
      "execution_count": 5,
      "outputs": [
        {
          "output_type": "stream",
          "name": "stdout",
          "text": [
            "idx값 (0, 0)\n",
            "current value => 10\n",
            "idx값 (0, 1)\n",
            "current value => 20\n",
            "idx값 (0, 2)\n",
            "current value => 30\n",
            "idx값 (0, 3)\n",
            "current value => 40\n",
            "idx값 (1, 0)\n",
            "current value => 50\n",
            "idx값 (1, 1)\n",
            "current value => 60\n",
            "idx값 (1, 2)\n",
            "current value => 70\n",
            "idx값 (1, 3)\n",
            "current value => 80\n"
          ]
        }
      ]
    },
    {
      "cell_type": "code",
      "source": [
        "A[0,3]"
      ],
      "metadata": {
        "colab": {
          "base_uri": "https://localhost:8080/"
        },
        "id": "NKhO1VHR5tyD",
        "outputId": "8767356e-3fa6-4254-c263-8d41812b42df"
      },
      "execution_count": 9,
      "outputs": [
        {
          "output_type": "execute_result",
          "data": {
            "text/plain": [
              "40"
            ]
          },
          "metadata": {},
          "execution_count": 9
        }
      ]
    }
  ]
}
