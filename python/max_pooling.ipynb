{
  "nbformat": 4,
  "nbformat_minor": 0,
  "metadata": {
    "colab": {
      "name": "max_pooling.ipynb",
      "provenance": [],
      "authorship_tag": "ABX9TyP7JCrK+CfNy4+DryPK29U6",
      "include_colab_link": true
    },
    "kernelspec": {
      "name": "python3",
      "display_name": "Python 3"
    },
    "language_info": {
      "name": "python"
    }
  },
  "cells": [
    {
      "cell_type": "markdown",
      "metadata": {
        "id": "view-in-github",
        "colab_type": "text"
      },
      "source": [
        "<a href=\"https://colab.research.google.com/github/kimheeseo/LDPC_study/blob/main/max_pooling.ipynb\" target=\"_parent\"><img src=\"https://colab.research.google.com/assets/colab-badge.svg\" alt=\"Open In Colab\"/></a>"
      ]
    },
    {
      "cell_type": "code",
      "source": [
        "import tensorflow as tf"
      ],
      "metadata": {
        "id": "ibjVSzzr2wgm"
      },
      "execution_count": 1,
      "outputs": []
    },
    {
      "cell_type": "code",
      "execution_count": 13,
      "metadata": {
        "colab": {
          "base_uri": "https://localhost:8080/"
        },
        "id": "LMXiv78e2vOR",
        "outputId": "75c1ea5c-d933-438e-f716-0f006d348d2f"
      },
      "outputs": [
        {
          "output_type": "stream",
          "name": "stdout",
          "text": [
            "matrix값 tf.Tensor(\n",
            "[[0 0 1 7]\n",
            " [6 2 6 0]\n",
            " [5 2 0 6]\n",
            " [0 6 9 8]], shape=(4, 4), dtype=int32) \n",
            "\n",
            "matrix2값 tf.Tensor(\n",
            "[[[[0]\n",
            "   [0]\n",
            "   [1]\n",
            "   [7]]\n",
            "\n",
            "  [[6]\n",
            "   [2]\n",
            "   [6]\n",
            "   [0]]\n",
            "\n",
            "  [[5]\n",
            "   [2]\n",
            "   [0]\n",
            "   [6]]\n",
            "\n",
            "  [[0]\n",
            "   [6]\n",
            "   [9]\n",
            "   [8]]]], shape=(1, 4, 4, 1), dtype=int32) \n",
            "\n"
          ]
        },
        {
          "output_type": "execute_result",
          "data": {
            "text/plain": [
              "<tf.Tensor: shape=(1, 2, 2, 1), dtype=int32, numpy=\n",
              "array([[[[6],\n",
              "         [7]],\n",
              "\n",
              "        [[6],\n",
              "         [9]]]], dtype=int32)>"
            ]
          },
          "metadata": {},
          "execution_count": 13
        }
      ],
      "source": [
        "matrix = tf.constant([\n",
        "    [0, 0, 1, 7],\n",
        "    [6, 2, 6, 0],\n",
        "    [5, 2, 0, 6],\n",
        "    [0, 6, 9, 8],\n",
        "])\n",
        "print(\"matrix값\",matrix,\"\\n\")\n",
        "reshaped = tf.reshape(matrix, (1, 4, 4, 1))\n",
        "print(\"matrix2값\",reshaped,\"\\n\")\n",
        "tf.nn.max_pool(reshaped, ksize=2, strides=2, padding=\"SAME\")\n",
        "\n",
        "#ksize=2, strides=2이기 때문에,\n",
        "#A1 = [0, 0], A2  = [1, 7], A3 = [5, 2], A4 = [0, 6]\n",
        "#     [6, 2],     = [6, 0]       [0, 6]       [9, 8]\n",
        "#=> max_pooling = [6, 7]\n",
        "#                 [6, 9]"
      ]
    },
    {
      "cell_type": "code",
      "source": [
        "matrix = tf.constant([\n",
        "    [0, 8, 1, 7],\n",
        "    [8, 2, 0, 0],\n",
        "    [5, 2, 0, 0],\n",
        "    [0, 9, 7, 8],\n",
        "])\n",
        "reshaped = tf.reshape(matrix, (1, 4, 4, 1))\n",
        "tf.nn.max_pool(reshaped, ksize=3, strides=2, padding=\"SAME\")"
      ],
      "metadata": {
        "colab": {
          "base_uri": "https://localhost:8080/"
        },
        "id": "jze9zpRi3E7k",
        "outputId": "3a093888-e2ee-4de6-97fa-d8e51804356a"
      },
      "execution_count": 11,
      "outputs": [
        {
          "output_type": "execute_result",
          "data": {
            "text/plain": [
              "<tf.Tensor: shape=(1, 2, 2, 1), dtype=int32, numpy=\n",
              "array([[[[8],\n",
              "         [7]],\n",
              "\n",
              "        [[9],\n",
              "         [8]]]], dtype=int32)>"
            ]
          },
          "metadata": {},
          "execution_count": 11
        }
      ]
    }
  ]
}
