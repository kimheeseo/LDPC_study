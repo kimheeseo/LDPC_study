{
  "nbformat": 4,
  "nbformat_minor": 0,
  "metadata": {
    "colab": {
      "name": "private_method.ipynb",
      "provenance": [],
      "authorship_tag": "ABX9TyMRasMEytakuQ2MuMkKRP4c",
      "include_colab_link": true
    },
    "kernelspec": {
      "name": "python3",
      "display_name": "Python 3"
    },
    "language_info": {
      "name": "python"
    }
  },
  "cells": [
    {
      "cell_type": "markdown",
      "metadata": {
        "id": "view-in-github",
        "colab_type": "text"
      },
      "source": [
        "<a href=\"https://colab.research.google.com/github/kimheeseo/LDPC_study/blob/main/private_method.ipynb\" target=\"_parent\"><img src=\"https://colab.research.google.com/assets/colab-badge.svg\" alt=\"Open In Colab\"/></a>"
      ]
    },
    {
      "cell_type": "markdown",
      "source": [
        "**참고사이트 : https://youtu.be/5Xy5Ju7hYo4**"
      ],
      "metadata": {
        "id": "LQ_vhgNc_wc8"
      }
    },
    {
      "cell_type": "code",
      "execution_count": 14,
      "metadata": {
        "id": "XosF3RP0_PTm"
      },
      "outputs": [],
      "source": [
        "def print_name(name):\n",
        "  print(\"[def]\", name)\n",
        "\n",
        "class SameTest:\n",
        "  def __init__(self):\n",
        "    pass\n",
        "\n",
        "  def print_name(self, name):\n",
        "    print(\"[SameTest]\",name)\n",
        "  def call_test(self):\n",
        "    print_name(\"KIM2\")\n",
        "\n",
        "    #클래스 내부method 호출\n",
        "    self.print_name(\"KIM3\")"
      ]
    },
    {
      "cell_type": "code",
      "source": [
        "#create SmaeTest object\n",
        "obj=SameTest()\n",
        "obj"
      ],
      "metadata": {
        "colab": {
          "base_uri": "https://localhost:8080/"
        },
        "id": "c5iRA5Sz_sLm",
        "outputId": "bd8f1707-9182-44ee-c74d-7776805c7979"
      },
      "execution_count": 15,
      "outputs": [
        {
          "output_type": "execute_result",
          "data": {
            "text/plain": [
              "<__main__.SameTest at 0x7fcc2bfcbe10>"
            ]
          },
          "metadata": {},
          "execution_count": 15
        }
      ]
    },
    {
      "cell_type": "code",
      "source": [
        "#call function print_name\n",
        "print_name(\"LEE\")\n",
        "#\"def print_name(name):\"를 실행한다."
      ],
      "metadata": {
        "colab": {
          "base_uri": "https://localhost:8080/"
        },
        "id": "9Sk3zaf4_7XO",
        "outputId": "c59e447b-94c3-4a19-b27d-88cb3d8f3fc0"
      },
      "execution_count": 16,
      "outputs": [
        {
          "output_type": "stream",
          "name": "stdout",
          "text": [
            "[def] LEE\n"
          ]
        }
      ]
    },
    {
      "cell_type": "code",
      "source": [
        "#call method print_name\n",
        "obj.print_name(\"LEE\")"
      ],
      "metadata": {
        "colab": {
          "base_uri": "https://localhost:8080/"
        },
        "id": "IEwzSwk3AEHl",
        "outputId": "c1fd6fbe-4028-4669-9591-b63972f7e1aa"
      },
      "execution_count": 17,
      "outputs": [
        {
          "output_type": "stream",
          "name": "stdout",
          "text": [
            "SameTest] LEE\n"
          ]
        }
      ]
    },
    {
      "cell_type": "code",
      "source": [
        "obj.call_test()\n",
        "#1번째 '[def]KIM2'는 def call_test(self)에 있는 print_name(\"KIM2\") 실행\n",
        "#2번째 '[SameTest]KIM3'은 call_test의 self.print_name(\"KIM3\")가 실행"
      ],
      "metadata": {
        "colab": {
          "base_uri": "https://localhost:8080/"
        },
        "id": "SVSef_QwAdBf",
        "outputId": "3f04f28d-f15a-4349-915d-e69982f95427"
      },
      "execution_count": 18,
      "outputs": [
        {
          "output_type": "stream",
          "name": "stdout",
          "text": [
            "[def] KIM2\n",
            "SameTest] KIM3\n"
          ]
        }
      ]
    }
  ]
}
