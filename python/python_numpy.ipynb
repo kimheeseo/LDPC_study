{
  "nbformat": 4,
  "nbformat_minor": 0,
  "metadata": {
    "colab": {
      "name": "python_numpy.ipynb",
      "provenance": [],
      "authorship_tag": "ABX9TyNmy7vGquKlYxaLNrMG5PFS",
      "include_colab_link": true
    },
    "kernelspec": {
      "name": "python3",
      "display_name": "Python 3"
    },
    "language_info": {
      "name": "python"
    }
  },
  "cells": [
    {
      "cell_type": "markdown",
      "metadata": {
        "id": "view-in-github",
        "colab_type": "text"
      },
      "source": [
        "<a href=\"https://colab.research.google.com/github/kimheeseo/LDPC_study/blob/main/python_numpy.ipynb\" target=\"_parent\"><img src=\"https://colab.research.google.com/assets/colab-badge.svg\" alt=\"Open In Colab\"/></a>"
      ]
    },
    {
      "cell_type": "markdown",
      "source": [
        "참고사이트 : https://youtu.be/dnJ3JESmBkE"
      ],
      "metadata": {
        "id": "BXS7R76-hqDK"
      }
    },
    {
      "cell_type": "code",
      "execution_count": 1,
      "metadata": {
        "id": "z6V7Qy63hN7S"
      },
      "outputs": [],
      "source": [
        "import numpy as np\n",
        "A=np.array([[10, 20, 30, 40], [50, 60, 70, 80]])"
      ]
    },
    {
      "cell_type": "code",
      "source": [
        "A"
      ],
      "metadata": {
        "colab": {
          "base_uri": "https://localhost:8080/"
        },
        "id": "loSgbIshhXA7",
        "outputId": "31bef939-4c24-4bd5-9b10-8dd975874eed"
      },
      "execution_count": 2,
      "outputs": [
        {
          "output_type": "execute_result",
          "data": {
            "text/plain": [
              "array([[10, 20, 30, 40],\n",
              "       [50, 60, 70, 80]])"
            ]
          },
          "metadata": {},
          "execution_count": 2
        }
      ]
    },
    {
      "cell_type": "code",
      "source": [
        "print(\"A.shape==\", A.shape,\"\\n\")\n",
        "\n",
        "#행렬A의 iteration 생성\n",
        "it=np.nditer(A, flags=['multi_index'],op_flags=['readwrite'])"
      ],
      "metadata": {
        "colab": {
          "base_uri": "https://localhost:8080/"
        },
        "id": "d41P4GFEhY7H",
        "outputId": "e55f018d-d3a1-4751-9153-c6dd7c00be50"
      },
      "execution_count": 3,
      "outputs": [
        {
          "output_type": "stream",
          "name": "stdout",
          "text": [
            "A.shape== (2, 4) \n",
            "\n"
          ]
        }
      ]
    },
    {
      "cell_type": "code",
      "source": [
        "it"
      ],
      "metadata": {
        "colab": {
          "base_uri": "https://localhost:8080/"
        },
        "id": "6wBTYKpRhmwr",
        "outputId": "90a8c2de-0ed5-4b41-fa48-3577b6778856"
      },
      "execution_count": 4,
      "outputs": [
        {
          "output_type": "execute_result",
          "data": {
            "text/plain": [
              "<numpy.nditer at 0x7f6833c3ea30>"
            ]
          },
          "metadata": {},
          "execution_count": 4
        }
      ]
    },
    {
      "cell_type": "code",
      "source": [
        "while not it.finished:\n",
        "  idx=it.multi_index\n",
        "  print(\"current value->\", A[idx])\n",
        "  it.iternext()"
      ],
      "metadata": {
        "colab": {
          "base_uri": "https://localhost:8080/"
        },
        "id": "ebKf3ziJhxrH",
        "outputId": "31a84b20-94ec-497c-f9c3-19cde2469faa"
      },
      "execution_count": 6,
      "outputs": [
        {
          "output_type": "stream",
          "name": "stdout",
          "text": [
            "current value-> 10\n",
            "current value-> 20\n",
            "current value-> 30\n",
            "current value-> 40\n",
            "current value-> 50\n",
            "current value-> 60\n",
            "current value-> 70\n",
            "current value-> 80\n"
          ]
        }
      ]
    }
  ]
}
