{
  "nbformat": 4,
  "nbformat_minor": 0,
  "metadata": {
    "colab": {
      "name": "random.ipynb",
      "provenance": [],
      "authorship_tag": "ABX9TyOnNUPGY0Mt6uhyQXBJqAvV",
      "include_colab_link": true
    },
    "kernelspec": {
      "name": "python3",
      "display_name": "Python 3"
    },
    "language_info": {
      "name": "python"
    }
  },
  "cells": [
    {
      "cell_type": "markdown",
      "metadata": {
        "id": "view-in-github",
        "colab_type": "text"
      },
      "source": [
        "<a href=\"https://colab.research.google.com/github/kimheeseo/LDPC_study/blob/main/random.ipynb\" target=\"_parent\"><img src=\"https://colab.research.google.com/assets/colab-badge.svg\" alt=\"Open In Colab\"/></a>"
      ]
    },
    {
      "cell_type": "code",
      "execution_count": 12,
      "metadata": {
        "colab": {
          "base_uri": "https://localhost:8080/"
        },
        "id": "nJqonR_WGwcY",
        "outputId": "71327f17-0e60-4a8d-f544-1deaa9609c8a"
      },
      "outputs": [
        {
          "output_type": "stream",
          "name": "stdout",
          "text": [
            "random_number1== [0.04003541 0.57526283 0.83960925] ,random_number1.shape== (3,)\n"
          ]
        }
      ],
      "source": [
        "import numpy as np\n",
        "random_number1=np.random.rand(3)\n",
        "print(\"random_number1==\",random_number1,\",random_number1.shape==\",random_number1.shape)"
      ]
    },
    {
      "cell_type": "code",
      "source": [
        "random_number1"
      ],
      "metadata": {
        "colab": {
          "base_uri": "https://localhost:8080/"
        },
        "id": "IAdUvv12G9EZ",
        "outputId": "685a2368-3f06-4522-8b8a-111906a88a30"
      },
      "execution_count": 13,
      "outputs": [
        {
          "output_type": "execute_result",
          "data": {
            "text/plain": [
              "array([0.04003541, 0.57526283, 0.83960925])"
            ]
          },
          "metadata": {},
          "execution_count": 13
        }
      ]
    },
    {
      "cell_type": "code",
      "source": [
        "random_number2=np.random.rand(1,3)\n",
        "print(\"random_number2==\",random_number2,\",random_number2.shape==\",random_number2.shape)"
      ],
      "metadata": {
        "colab": {
          "base_uri": "https://localhost:8080/"
        },
        "id": "W8JbCw_THAnZ",
        "outputId": "226f68d3-5078-4c5f-abdd-41f5e6434aa2"
      },
      "execution_count": 14,
      "outputs": [
        {
          "output_type": "stream",
          "name": "stdout",
          "text": [
            "random_number2== [[0.34560899 0.89523673 0.19748416]] ,random_number2.shape== (1, 3)\n"
          ]
        }
      ]
    },
    {
      "cell_type": "code",
      "source": [
        "#numpy.sum, exp, log\n",
        "X=np.array([2,4,6,8])\n",
        "print(\"np.sum(X)==\",np.sum(X))\n",
        "print(\"np.exp(X)==\",np.exp(X))\n",
        "print(\"np.log(X)==\",np.log(X))"
      ],
      "metadata": {
        "colab": {
          "base_uri": "https://localhost:8080/"
        },
        "id": "lg299-lwHPsz",
        "outputId": "400fcbf6-4e1c-46aa-f19f-67d7c0e6f307"
      },
      "execution_count": 15,
      "outputs": [
        {
          "output_type": "stream",
          "name": "stdout",
          "text": [
            "np.sum(X)== 20\n",
            "np.exp(X)== [   7.3890561    54.59815003  403.42879349 2980.95798704]\n",
            "np.log(X)== [0.69314718 1.38629436 1.79175947 2.07944154]\n"
          ]
        }
      ]
    },
    {
      "cell_type": "code",
      "source": [
        "import matplotlib.pyplot as plt\n",
        "\n",
        "y1=np.sum(X)\n",
        "y2=np.exp(X)\n",
        "y3=np.log(X)\n",
        "\n",
        "plt.plot(X,y2,label='exp')\n",
        "plt.plot(X,y3, label='log')\n",
        "plt.xlabel('X-Axis') #x축\n",
        "plt.ylabel('Y-Axis') #y축\n",
        "plt.legend()\n",
        "plt.show()"
      ],
      "metadata": {
        "colab": {
          "base_uri": "https://localhost:8080/",
          "height": 279
        },
        "id": "9gAwXWr5Ht1h",
        "outputId": "b3cc9172-f02a-4aaf-d12b-e540ebe9fac3"
      },
      "execution_count": 23,
      "outputs": [
        {
          "output_type": "display_data",
          "data": {
            "text/plain": [
              "<Figure size 432x288 with 1 Axes>"
            ],
            "image/png": "[encoded data removed]"
          },
          "metadata": {
            "needs_background": "light"
          }
        }
      ]
    }
  ]
}
