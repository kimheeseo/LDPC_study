{
  "nbformat": 4,
  "nbformat_minor": 0,
  "metadata": {
    "colab": {
      "name": "argmax.ipynb",
      "provenance": [],
      "authorship_tag": "ABX9TyOiOyTV4Q2fHkl7nUNtkm6L",
      "include_colab_link": true
    },
    "kernelspec": {
      "name": "python3",
      "display_name": "Python 3"
    },
    "language_info": {
      "name": "python"
    }
  },
  "cells": [
    {
      "cell_type": "markdown",
      "metadata": {
        "id": "view-in-github",
        "colab_type": "text"
      },
      "source": [
        "<a href=\"https://colab.research.google.com/github/kimheeseo/LDPC_study/blob/main/argmax.ipynb\" target=\"_parent\"><img src=\"https://colab.research.google.com/assets/colab-badge.svg\" alt=\"Open In Colab\"/></a>"
      ]
    },
    {
      "cell_type": "markdown",
      "source": [
        "출처 : https://www.delftstack.com/ko/api/numpy/python-numpy-argmax/"
      ],
      "metadata": {
        "id": "WT0FuRRYj7Ty"
      }
    },
    {
      "cell_type": "code",
      "execution_count": 1,
      "metadata": {
        "colab": {
          "base_uri": "https://localhost:8080/"
        },
        "id": "-t_1bUqzjzBO",
        "outputId": "29f4b5ab-5427-46ae-c024-35c8c6814cde"
      },
      "outputs": [
        {
          "output_type": "stream",
          "name": "stdout",
          "text": [
            "Array:\n",
            "[2 6 1 5]\n",
            "\n",
            "Index with the largest value:\n",
            "1\n",
            "\n",
            "The largest value in the array:\n",
            "6\n"
          ]
        }
      ],
      "source": [
        "import numpy as np\n",
        "\n",
        "a=np.array([2,6,1,5])\n",
        "\n",
        "print(\"Array:\")\n",
        "print(a)\n",
        "\n",
        "req_index=np.argmax(a)\n",
        "print(\"\\nIndex with the largest value:\")\n",
        "print(req_index) #argmax(a)에 의해서 6이 있는 1이 출력된다.\n",
        "\n",
        "print(\"\\nThe largest value in the array:\")\n",
        "print(a[req_index])#a의 2번째 요소가 argmax에 의해서 index값이 알려졌기에,\n",
        "#이 값을 a[1]을 하면 '6'의 값이 출력된다."
      ]
    },
    {
      "cell_type": "markdown",
      "source": [
        "**열 축을 따라 가장 높은 요소의 인덱스 찾기**"
      ],
      "metadata": {
        "id": "lJWxlgPJkYfB"
      }
    },
    {
      "cell_type": "code",
      "source": [
        "import numpy as np\n",
        "\n",
        "a=np.array([[2,1,6],\n",
        "            [7,4,5]])\n",
        "\n",
        "print(\"Array:\")\n",
        "print(a)\n",
        "\n",
        "req_index=np.argmax(a,axis=0)\n",
        "print(\"\\nIndices with the largest value along column axis:\")\n",
        "print(req_index)\n",
        "\n",
        "#np.argmax(a)에서 axis=0이기 때문에, 행 기준으로 설정하면,\n",
        "#[2] 중 큰 값은 7이기에, [1]이 되고,  [6] 중 큰 값은 6이기에, [0]이 됩니다.\n",
        "#[7]                                  [5]\n",
        "#따라서 prnt(req_index)는 [1 1 0]이 출력됩니다."
      ],
      "metadata": {
        "colab": {
          "base_uri": "https://localhost:8080/"
        },
        "id": "tWDDs9ZOkYrI",
        "outputId": "3ad9f5de-4c1d-4d1e-fb1d-add83d839a2e"
      },
      "execution_count": 2,
      "outputs": [
        {
          "output_type": "stream",
          "name": "stdout",
          "text": [
            "Array:\n",
            "[[2 1 6]\n",
            " [7 4 5]]\n",
            "\n",
            "Indices with the largest value along column axis:\n",
            "[1 1 0]\n"
          ]
        }
      ]
    }
  ]
}
