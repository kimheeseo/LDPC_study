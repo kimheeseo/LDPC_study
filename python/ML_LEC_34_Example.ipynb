{
  "nbformat": 4,
  "nbformat_minor": 0,
  "metadata": {
    "colab": {
      "name": "ML_LEC_34_Example.ipynb",
      "provenance": [],
      "collapsed_sections": [],
      "authorship_tag": "ABX9TyOwfrLkj6BG/H7i1JvaQJ6e",
      "include_colab_link": true
    },
    "kernelspec": {
      "name": "python3",
      "display_name": "Python 3"
    },
    "language_info": {
      "name": "python"
    },
    "accelerator": "GPU",
    "gpuClass": "standard"
  },
  "cells": [
    {
      "cell_type": "markdown",
      "metadata": {
        "id": "view-in-github",
        "colab_type": "text"
      },
      "source": [
        "<a href=\"https://colab.research.google.com/github/kimheeseo/LDPC_study/blob/main/ML_LEC_34_Example.ipynb\" target=\"_parent\"><img src=\"https://colab.research.google.com/assets/colab-badge.svg\" alt=\"Open In Colab\"/></a>"
      ]
    },
    {
      "cell_type": "code",
      "source": [
        "!pip uninstall tensorflow"
      ],
      "metadata": {
        "colab": {
          "base_uri": "https://localhost:8080/"
        },
        "id": "2azdn9kGiZVt",
        "outputId": "c6604b34-bfd2-4a88-969c-55dc09189cc3"
      },
      "execution_count": 72,
      "outputs": [
        {
          "output_type": "stream",
          "name": "stdout",
          "text": [
            "Found existing installation: tensorflow 1.15.0\n",
            "Uninstalling tensorflow-1.15.0:\n",
            "  Would remove:\n",
            "    /usr/local/bin/estimator_ckpt_converter\n",
            "    /usr/local/bin/freeze_graph\n",
            "    /usr/local/bin/saved_model_cli\n",
            "    /usr/local/bin/tensorboard\n",
            "    /usr/local/bin/tf_upgrade_v2\n",
            "    /usr/local/bin/tflite_convert\n",
            "    /usr/local/bin/toco\n",
            "    /usr/local/bin/toco_from_protos\n",
            "    /usr/local/lib/python3.7/dist-packages/tensorflow-1.15.0.dist-info/*\n",
            "    /usr/local/lib/python3.7/dist-packages/tensorflow/*\n",
            "    /usr/local/lib/python3.7/dist-packages/tensorflow_core/*\n",
            "Proceed (y/n)? y\n",
            "  Successfully uninstalled tensorflow-1.15.0\n"
          ]
        }
      ]
    },
    {
      "cell_type": "code",
      "source": [
        "!pip install tensorflow==1.15 # 1.15 버전 Tensorflow 설치"
      ],
      "metadata": {
        "colab": {
          "base_uri": "https://localhost:8080/",
          "height": 705
        },
        "id": "AHXryjG6ipOJ",
        "outputId": "98c3c4fd-7717-4a94-8ac4-da99d1314a39"
      },
      "execution_count": 73,
      "outputs": [
        {
          "output_type": "stream",
          "name": "stdout",
          "text": [
            "Looking in indexes: https://pypi.org/simple, https://us-python.pkg.dev/colab-wheels/public/simple/\n",
            "Collecting tensorflow==1.15\n",
            "  Using cached tensorflow-1.15.0-cp37-cp37m-manylinux2010_x86_64.whl (412.3 MB)\n",
            "Requirement already satisfied: wheel>=0.26 in /usr/local/lib/python3.7/dist-packages (from tensorflow==1.15) (0.37.1)\n",
            "Requirement already satisfied: astor>=0.6.0 in /usr/local/lib/python3.7/dist-packages (from tensorflow==1.15) (0.8.1)\n",
            "Requirement already satisfied: gast==0.2.2 in /usr/local/lib/python3.7/dist-packages (from tensorflow==1.15) (0.2.2)\n",
            "Requirement already satisfied: six>=1.10.0 in /usr/local/lib/python3.7/dist-packages (from tensorflow==1.15) (1.15.0)\n",
            "Requirement already satisfied: tensorboard<1.16.0,>=1.15.0 in /usr/local/lib/python3.7/dist-packages (from tensorflow==1.15) (1.15.0)\n",
            "Requirement already satisfied: protobuf>=3.6.1 in /usr/local/lib/python3.7/dist-packages (from tensorflow==1.15) (3.17.3)\n",
            "Requirement already satisfied: termcolor>=1.1.0 in /usr/local/lib/python3.7/dist-packages (from tensorflow==1.15) (1.1.0)\n",
            "Requirement already satisfied: grpcio>=1.8.6 in /usr/local/lib/python3.7/dist-packages (from tensorflow==1.15) (1.46.3)\n",
            "Requirement already satisfied: tensorflow-estimator==1.15.1 in /usr/local/lib/python3.7/dist-packages (from tensorflow==1.15) (1.15.1)\n",
            "Requirement already satisfied: wrapt>=1.11.1 in /usr/local/lib/python3.7/dist-packages (from tensorflow==1.15) (1.14.1)\n",
            "Requirement already satisfied: keras-applications>=1.0.8 in /usr/local/lib/python3.7/dist-packages (from tensorflow==1.15) (1.0.8)\n",
            "Requirement already satisfied: keras-preprocessing>=1.0.5 in /usr/local/lib/python3.7/dist-packages (from tensorflow==1.15) (1.1.2)\n",
            "Requirement already satisfied: google-pasta>=0.1.6 in /usr/local/lib/python3.7/dist-packages (from tensorflow==1.15) (0.2.0)\n",
            "Requirement already satisfied: opt-einsum>=2.3.2 in /usr/local/lib/python3.7/dist-packages (from tensorflow==1.15) (3.3.0)\n",
            "Requirement already satisfied: numpy<2.0,>=1.16.0 in /usr/local/lib/python3.7/dist-packages (from tensorflow==1.15) (1.21.6)\n",
            "Requirement already satisfied: absl-py>=0.7.0 in /usr/local/lib/python3.7/dist-packages (from tensorflow==1.15) (1.1.0)\n",
            "Requirement already satisfied: h5py in /usr/local/lib/python3.7/dist-packages (from keras-applications>=1.0.8->tensorflow==1.15) (3.1.0)\n",
            "Requirement already satisfied: setuptools>=41.0.0 in /usr/local/lib/python3.7/dist-packages (from tensorboard<1.16.0,>=1.15.0->tensorflow==1.15) (57.4.0)\n",
            "Requirement already satisfied: werkzeug>=0.11.15 in /usr/local/lib/python3.7/dist-packages (from tensorboard<1.16.0,>=1.15.0->tensorflow==1.15) (1.0.1)\n",
            "Requirement already satisfied: markdown>=2.6.8 in /usr/local/lib/python3.7/dist-packages (from tensorboard<1.16.0,>=1.15.0->tensorflow==1.15) (3.3.7)\n",
            "Requirement already satisfied: importlib-metadata>=4.4 in /usr/local/lib/python3.7/dist-packages (from markdown>=2.6.8->tensorboard<1.16.0,>=1.15.0->tensorflow==1.15) (4.11.4)\n",
            "Requirement already satisfied: typing-extensions>=3.6.4 in /usr/local/lib/python3.7/dist-packages (from importlib-metadata>=4.4->markdown>=2.6.8->tensorboard<1.16.0,>=1.15.0->tensorflow==1.15) (4.1.1)\n",
            "Requirement already satisfied: zipp>=0.5 in /usr/local/lib/python3.7/dist-packages (from importlib-metadata>=4.4->markdown>=2.6.8->tensorboard<1.16.0,>=1.15.0->tensorflow==1.15) (3.8.0)\n",
            "Requirement already satisfied: cached-property in /usr/local/lib/python3.7/dist-packages (from h5py->keras-applications>=1.0.8->tensorflow==1.15) (1.5.2)\n",
            "Installing collected packages: tensorflow\n",
            "\u001b[31mERROR: pip's dependency resolver does not currently take into account all the packages that are installed. This behaviour is the source of the following dependency conflicts.\n",
            "kapre 0.3.7 requires tensorflow>=2.0.0, but you have tensorflow 1.15.0 which is incompatible.\u001b[0m\n",
            "Successfully installed tensorflow-1.15.0\n"
          ]
        },
        {
          "output_type": "display_data",
          "data": {
            "application/vnd.colab-display-data+json": {
              "pip_warning": {
                "packages": [
                  "tensorflow",
                  "tensorflow_core"
                ]
              }
            }
          },
          "metadata": {}
        }
      ]
    },
    {
      "cell_type": "code",
      "source": [
        "import tensorflow as tf\n",
        "tf.__version__"
      ],
      "metadata": {
        "colab": {
          "base_uri": "https://localhost:8080/",
          "height": 36
        },
        "id": "BBOQE7LBjH04",
        "outputId": "f078759f-6f3a-4897-9d78-267df3a5cdb4"
      },
      "execution_count": 74,
      "outputs": [
        {
          "output_type": "execute_result",
          "data": {
            "text/plain": [
              "'1.15.0'"
            ],
            "application/vnd.google.colaboratory.intrinsic+json": {
              "type": "string"
            }
          },
          "metadata": {},
          "execution_count": 74
        }
      ]
    },
    {
      "cell_type": "code",
      "execution_count": 75,
      "metadata": {
        "colab": {
          "base_uri": "https://localhost:8080/"
        },
        "id": "RL6v2sRFiOmC",
        "outputId": "9d10bec4-6963-4580-8613-a22890ab20dc"
      },
      "outputs": [
        {
          "output_type": "stream",
          "name": "stdout",
          "text": [
            "Extracting MNIST_data/train-images-idx3-ubyte.gz\n",
            "Extracting MNIST_data/train-labels-idx1-ubyte.gz\n",
            "Extracting MNIST_data/t10k-images-idx3-ubyte.gz\n",
            "Extracting MNIST_data/t10k-labels-idx1-ubyte.gz\n",
            "\n",
            " 55000 10000 5000\n"
          ]
        }
      ],
      "source": [
        "import tensorflow as tf\n",
        "from tensorflow.examples.tutorials.mnist import input_data\n",
        "import numpy as np\n",
        "from datetime import datetime      # datetime.now() 를 이용하여 학습 경과 시간 측정\n",
        "\n",
        "# read_data_sets() 를 통해 데이터를 객체형태로 받아오고\n",
        "# one_hot 옵션을 통해 정답(label) 을 one-hot 인코딩된 형태로 받아옴\n",
        "\n",
        "mnist = input_data.read_data_sets(\"MNIST_data/\", one_hot=True)\n",
        "\n",
        "# mnist 데이터 셋은 train, test, validation 3개의 데이터 셋으로 구성되어 있으며.\n",
        "# num_examples 값을 통해 데이터의 갯수 확인 가능함\n",
        "\n",
        "print(\"\\n\", mnist.train.num_examples, mnist.test.num_examples, mnist.validation.num_examples)"
      ]
    },
    {
      "cell_type": "code",
      "source": [
        "# 데이터는 784(28x28)개의 픽셀을 가지는 이미지와\n",
        "# 10(0~9)개 클래스를 가지는 one-hot 인코딩된 레이블(정답)을 가지고 있음\n",
        "print(\"train image shape = \", np.shape(mnist.train.images))\n",
        "print(\"train label shape = \", np.shape(mnist.train.labels))\n",
        "print(\"test image shape = \", np.shape(mnist.test.images))\n",
        "print(\"test label shape = \", np.shape(mnist.test.labels))"
      ],
      "metadata": {
        "colab": {
          "base_uri": "https://localhost:8080/"
        },
        "id": "jk3Q2agsiWuc",
        "outputId": "c5e4a0a4-b13a-4aaf-acc1-b443cb1cee6a"
      },
      "execution_count": 76,
      "outputs": [
        {
          "output_type": "stream",
          "name": "stdout",
          "text": [
            "train image shape =  (55000, 784)\n",
            "train label shape =  (55000, 10)\n",
            "test image shape =  (10000, 784)\n",
            "test label shape =  (10000, 10)\n"
          ]
        }
      ]
    },
    {
      "cell_type": "code",
      "source": [
        "# Hyper-Parameter\n",
        "learning_rate = 0.001  # 학습율\n",
        "epochs = 30            # 반복횟수\n",
        "batch_size = 100      # 한번에 입력으로 주어지는 MNIST 개수"
      ],
      "metadata": {
        "id": "ihh3C5mhiv1q"
      },
      "execution_count": 77,
      "outputs": []
    },
    {
      "cell_type": "code",
      "source": [
        "# 입력과 정답을 위한 플레이스홀더 정의\n",
        "X = tf.placeholder(tf.float32, [None, 784])  \n",
        "\n",
        "T = tf.placeholder(tf.float32, [None, 10])  "
      ],
      "metadata": {
        "id": "OxN18KKLiy2P"
      },
      "execution_count": 78,
      "outputs": []
    },
    {
      "cell_type": "code",
      "source": [
        "X"
      ],
      "metadata": {
        "colab": {
          "base_uri": "https://localhost:8080/"
        },
        "id": "M93Ji_50lQWN",
        "outputId": "f6d36d5a-9603-4432-e67c-44754ae7bd10"
      },
      "execution_count": 79,
      "outputs": [
        {
          "output_type": "execute_result",
          "data": {
            "text/plain": [
              "<tf.Tensor 'Placeholder_4:0' shape=(?, 784) dtype=float32>"
            ]
          },
          "metadata": {},
          "execution_count": 79
        }
      ]
    },
    {
      "cell_type": "markdown",
      "source": [
        "1번째 컨볼루션층"
      ],
      "metadata": {
        "id": "7eKoKQxui2in"
      }
    },
    {
      "cell_type": "code",
      "source": [
        "# 입력층의 출력 값. 컨볼루션 연산을 위해 reshape 시킴\n",
        "A1 = X_img = tf.reshape(X, [-1, 28, 28, 1])   # image 28 X 28 X 1 (black/white)\n",
        "# 1번째 컨볼루션 층\n",
        "# 3X3 크기를 가지는 32개의 필터를 적용\n",
        "\n",
        "F2 = tf.Variable(tf.random_normal([3, 3, 1, 32], stddev=0.01))  \n",
        "b2 = tf.Variable(tf.constant(0.1, shape=[32]))   \n",
        "\n",
        "# 1번째 컨볼루션 연산을 통해 28 X 28 X1  => 28 X 28 X 32 \n",
        "#입력값이 28*28*1이 되는 데, filter의 갯수가 32개이기에, 28*28*32가 됩니다.\n",
        "C2 = tf.nn.conv2d(A1, F2, strides=[1, 1, 1, 1], padding='SAME')\n",
        "#padding='SAME'에 의해서, 32이 유지되고, stride값이 1이기에, 28*28이 됩니다.\n",
        "#따라서 아래와 같이 C2의 shape은 28*28*32가 됩니다.\n",
        "\n",
        "# relu\n",
        "Z2 = tf.nn.relu(C2+b2)\n",
        "\n",
        "# 1번째 max pooling을 통해 28 X 28 X 32  => 14 X 14 X 32 \n",
        "A2 = P2 = tf.nn.max_pool(Z2, ksize=[1, 2, 2, 1], strides=[1, 2, 2, 1], padding='SAME')\n",
        "#A2 전까지인 Z2의 경우, 28*28*32였는데, 여기에서 stride값이 2이기 때문에 1/2이 되어서, 14*14*32가 됩니다."
      ],
      "metadata": {
        "id": "95M_AG7YizcW"
      },
      "execution_count": 80,
      "outputs": []
    },
    {
      "cell_type": "code",
      "source": [
        "C2"
      ],
      "metadata": {
        "colab": {
          "base_uri": "https://localhost:8080/"
        },
        "id": "_0hi-23hlbL9",
        "outputId": "98aa4287-59b9-4f9a-cbf1-e8db25d7f39b"
      },
      "execution_count": 81,
      "outputs": [
        {
          "output_type": "execute_result",
          "data": {
            "text/plain": [
              "<tf.Tensor 'Conv2D_3:0' shape=(?, 28, 28, 32) dtype=float32>"
            ]
          },
          "metadata": {},
          "execution_count": 81
        }
      ]
    },
    {
      "cell_type": "code",
      "source": [
        "Z2"
      ],
      "metadata": {
        "colab": {
          "base_uri": "https://localhost:8080/"
        },
        "id": "ziBA4r6Jl4W4",
        "outputId": "99a84cf9-c787-46a9-e650-061861cd184e"
      },
      "execution_count": 82,
      "outputs": [
        {
          "output_type": "execute_result",
          "data": {
            "text/plain": [
              "<tf.Tensor 'Relu_3:0' shape=(?, 28, 28, 32) dtype=float32>"
            ]
          },
          "metadata": {},
          "execution_count": 82
        }
      ]
    },
    {
      "cell_type": "code",
      "source": [
        "A2"
      ],
      "metadata": {
        "colab": {
          "base_uri": "https://localhost:8080/"
        },
        "id": "3a9mUrssl54X",
        "outputId": "1a0a8f80-c0b2-4d93-e182-0977441a6321"
      },
      "execution_count": 83,
      "outputs": [
        {
          "output_type": "execute_result",
          "data": {
            "text/plain": [
              "<tf.Tensor 'MaxPool_3:0' shape=(?, 14, 14, 32) dtype=float32>"
            ]
          },
          "metadata": {},
          "execution_count": 83
        }
      ]
    },
    {
      "cell_type": "markdown",
      "source": [
        "2번째 컨볼루션 층"
      ],
      "metadata": {
        "id": "avIm7l1Si5dt"
      }
    },
    {
      "cell_type": "code",
      "source": [
        "# 2번째 컨볼루션 층\n",
        "F3 = tf.Variable(tf.random_normal([3, 3, 32, 64], stddev=0.01))  \n",
        "b3 = tf.Variable(tf.constant(0.1, shape=[64]))   \n",
        "\n",
        "# 2번째 컨볼루션 연산을 통해 14 X 14 X 32 => 14 X 14 X 64 \n",
        "C3 = tf.nn.conv2d(A2, F3, strides=[1, 1, 1, 1], padding='SAME')\n",
        "\n",
        "# relu\n",
        "Z3 = tf.nn.relu(C3+b3)\n",
        "\n",
        "# 2번째 max pooling을 통해 14 X 14 X 64 => 7 X 7 X 64\n",
        "A3 = P3 = tf.nn.max_pool(Z3, ksize=[1, 2, 2, 1], strides=[1, 2, 2, 1], padding='SAME')"
      ],
      "metadata": {
        "id": "RRx-2I_OiRZg"
      },
      "execution_count": 84,
      "outputs": []
    },
    {
      "cell_type": "code",
      "source": [
        "F3\n",
        "#3*3*32*64는 3*3 크기의 filter를 의미하고, 64는 filter의 갯수를 의미하고, 32는 입력채널\n",
        "#입력 채널 : 데이터가 들어오는 통로"
      ],
      "metadata": {
        "colab": {
          "base_uri": "https://localhost:8080/"
        },
        "id": "6hlxylJfnE_n",
        "outputId": "79a0efee-25f3-488d-cf6c-2247cf3a0545"
      },
      "execution_count": 85,
      "outputs": [
        {
          "output_type": "execute_result",
          "data": {
            "text/plain": [
              "<tf.Variable 'Variable_14:0' shape=(3, 3, 32, 64) dtype=float32_ref>"
            ]
          },
          "metadata": {},
          "execution_count": 85
        }
      ]
    },
    {
      "cell_type": "code",
      "source": [
        "C3\n",
        "#14*14*32 -> 14*14*64인데, 우선 padding='SAME'에 의해서, 14*14가 되고,\n",
        "#filter의 갯수가 64이기에, 64가 되어서, 14*14*64가 됩니다."
      ],
      "metadata": {
        "colab": {
          "base_uri": "https://localhost:8080/"
        },
        "id": "8R53A_7bn4YO",
        "outputId": "10bdc21f-e93f-4b3f-97f9-949763014dec"
      },
      "execution_count": 86,
      "outputs": [
        {
          "output_type": "execute_result",
          "data": {
            "text/plain": [
              "<tf.Tensor 'Conv2D_4:0' shape=(?, 14, 14, 64) dtype=float32>"
            ]
          },
          "metadata": {},
          "execution_count": 86
        }
      ]
    },
    {
      "cell_type": "code",
      "source": [
        "Z3"
      ],
      "metadata": {
        "colab": {
          "base_uri": "https://localhost:8080/"
        },
        "id": "tpKfbaPRoWun",
        "outputId": "bef449eb-fea4-4c7e-e443-15b58c1c2d14"
      },
      "execution_count": 87,
      "outputs": [
        {
          "output_type": "execute_result",
          "data": {
            "text/plain": [
              "<tf.Tensor 'Relu_4:0' shape=(?, 14, 14, 64) dtype=float32>"
            ]
          },
          "metadata": {},
          "execution_count": 87
        }
      ]
    },
    {
      "cell_type": "code",
      "source": [
        "A3\n",
        "#원래는 14*14*64 -> 7*7*64인데, 여기서 stride가 2이기 때문에, 14->7로 1/2이 됩니다."
      ],
      "metadata": {
        "colab": {
          "base_uri": "https://localhost:8080/"
        },
        "id": "5y6w7Phen4wV",
        "outputId": "c14a4884-5683-4107-c675-db4476a0af76"
      },
      "execution_count": 88,
      "outputs": [
        {
          "output_type": "execute_result",
          "data": {
            "text/plain": [
              "<tf.Tensor 'MaxPool_4:0' shape=(?, 7, 7, 64) dtype=float32>"
            ]
          },
          "metadata": {},
          "execution_count": 88
        }
      ]
    },
    {
      "cell_type": "markdown",
      "source": [
        "3번째 컨볼루션층"
      ],
      "metadata": {
        "id": "OkOo3lifjEVa"
      }
    },
    {
      "cell_type": "code",
      "source": [
        "# 3번째 컨볼루션 층\n",
        "F4 = tf.Variable(tf.random_normal([3, 3, 64, 128], stddev=0.01))  \n",
        "b4 = tf.Variable(tf.constant(0.1, shape=[128]))   \n",
        "\n",
        "# 3번째 컨볼루션 연산을 통해 7 X 7 X 64 => 7 X 7 X 128\n",
        "C4 = tf.nn.conv2d(A3, F4, strides=[1, 1, 1, 1], padding='SAME')\n",
        "\n",
        "# relu\n",
        "Z4 = tf.nn.relu(C4+b4)\n",
        "\n",
        "# 3번째 max pooling을 통해 7 X 7 X 128 => 4 X 4 X 128\n",
        "A4 = P4 = tf.nn.max_pool(Z4, ksize=[1, 2, 2, 1], strides=[1, 2, 2, 1], padding='SAME')"
      ],
      "metadata": {
        "id": "DUF0KVCVi-lV"
      },
      "execution_count": 89,
      "outputs": []
    },
    {
      "cell_type": "code",
      "source": [
        "F4\n",
        "#(3,3,64,128)이 filter인데, 3*3이 필터의 크기를 나타내고,\n",
        "#128은 필터의 갯수를 나타내고, 64는 입력채널의 수를 나타냅니다."
      ],
      "metadata": {
        "colab": {
          "base_uri": "https://localhost:8080/"
        },
        "id": "qmMJVM60otfD",
        "outputId": "6eac45f9-6bc3-4683-c541-13c694c733c7"
      },
      "execution_count": 90,
      "outputs": [
        {
          "output_type": "execute_result",
          "data": {
            "text/plain": [
              "<tf.Variable 'Variable_16:0' shape=(3, 3, 64, 128) dtype=float32_ref>"
            ]
          },
          "metadata": {},
          "execution_count": 90
        }
      ]
    },
    {
      "cell_type": "code",
      "source": [
        "C4\n",
        "#7*7*64 -> 7*7*128 여기에서 padding='SAME'에 의해서 7*7이 되고,\n",
        "#64->128이 되는 이유는 F4에서 filter의 갯수를 통해, '128'이 된다는 것을 알 수 있습니다."
      ],
      "metadata": {
        "colab": {
          "base_uri": "https://localhost:8080/"
        },
        "id": "_iSVySC9otny",
        "outputId": "6da3a6bc-d7af-489a-8672-d3ca19107d68"
      },
      "execution_count": 91,
      "outputs": [
        {
          "output_type": "execute_result",
          "data": {
            "text/plain": [
              "<tf.Tensor 'Conv2D_5:0' shape=(?, 7, 7, 128) dtype=float32>"
            ]
          },
          "metadata": {},
          "execution_count": 91
        }
      ]
    },
    {
      "cell_type": "code",
      "source": [
        "A4\n",
        "#7*7*128 -> 4*4*128이 되는 이유는 stride=2에 의해서 7/2=4로 (4,4,128)이 됩니다."
      ],
      "metadata": {
        "colab": {
          "base_uri": "https://localhost:8080/"
        },
        "id": "8JLUUl5lottt",
        "outputId": "6489b0ef-4fbe-4492-92fe-c51242d5ab76"
      },
      "execution_count": 92,
      "outputs": [
        {
          "output_type": "execute_result",
          "data": {
            "text/plain": [
              "<tf.Tensor 'MaxPool_5:0' shape=(?, 4, 4, 128) dtype=float32>"
            ]
          },
          "metadata": {},
          "execution_count": 92
        }
      ]
    },
    {
      "cell_type": "code",
      "source": [
        "# 4X4 크기를 가진 128개의 activation map을 flatten 시킴\n",
        "A4_flat = P4_flat = tf.reshape(A4, [-1, 128*4*4])\n",
        "# 출력층\n",
        "W5 = tf.Variable(tf.random_normal([128*4*4, 10], stddev=0.01))\n",
        "b5 = tf.Variable(tf.random_normal([10]))\n",
        "\n",
        "# 출력층 선형회귀  값 Z5, 즉 softmax 에 들어가는 입력 값\n",
        "Z5 = logits = tf.matmul(A4_flat, W5) + b5    # 선형회귀 값 Z5\n",
        "\n",
        "y = A5 = tf.nn.softmax(Z5)\n",
        "loss = tf.reduce_mean( tf.nn.softmax_cross_entropy_with_logits_v2(logits=Z5, labels=T) )"
      ],
      "metadata": {
        "id": "ocfMM_TRlH88"
      },
      "execution_count": 93,
      "outputs": []
    },
    {
      "cell_type": "code",
      "source": [
        "A4"
      ],
      "metadata": {
        "colab": {
          "base_uri": "https://localhost:8080/"
        },
        "id": "41foBIPAqKaO",
        "outputId": "245a13ee-6082-4059-fa2e-13048f044a15"
      },
      "execution_count": 94,
      "outputs": [
        {
          "output_type": "execute_result",
          "data": {
            "text/plain": [
              "<tf.Tensor 'MaxPool_5:0' shape=(?, 4, 4, 128) dtype=float32>"
            ]
          },
          "metadata": {},
          "execution_count": 94
        }
      ]
    },
    {
      "cell_type": "code",
      "source": [
        "A4_flat\n",
        "#A4의 경우, 4*4*128 -> A4_flat의 경우, 2048이 되는데, 이를 통해 1차원이 된 flat이 된 것을 확인할 수 있습니다."
      ],
      "metadata": {
        "colab": {
          "base_uri": "https://localhost:8080/"
        },
        "id": "N7JvzKkoqM0J",
        "outputId": "b26e50be-2c1f-40e1-b5f7-edc6aa10ddd1"
      },
      "execution_count": 95,
      "outputs": [
        {
          "output_type": "execute_result",
          "data": {
            "text/plain": [
              "<tf.Tensor 'Reshape_5:0' shape=(?, 2048) dtype=float32>"
            ]
          },
          "metadata": {},
          "execution_count": 95
        }
      ]
    },
    {
      "cell_type": "code",
      "source": [
        "W5"
      ],
      "metadata": {
        "colab": {
          "base_uri": "https://localhost:8080/"
        },
        "id": "iA65OoM1lKIF",
        "outputId": "e6fcc7f1-99a9-4047-9a80-92e8ba86534c"
      },
      "execution_count": 96,
      "outputs": [
        {
          "output_type": "execute_result",
          "data": {
            "text/plain": [
              "<tf.Variable 'Variable_18:0' shape=(2048, 10) dtype=float32_ref>"
            ]
          },
          "metadata": {},
          "execution_count": 96
        }
      ]
    },
    {
      "cell_type": "code",
      "source": [
        "y\n",
        "#y의 경우 10이 되는 이유는 0~9로 softmax가 된 값이 출력되기 때문."
      ],
      "metadata": {
        "colab": {
          "base_uri": "https://localhost:8080/"
        },
        "id": "UlzKc6APqcBK",
        "outputId": "493e2730-77a0-4a83-d6b6-17776b2c2fd1"
      },
      "execution_count": 97,
      "outputs": [
        {
          "output_type": "execute_result",
          "data": {
            "text/plain": [
              "<tf.Tensor 'Softmax_3:0' shape=(?, 10) dtype=float32>"
            ]
          },
          "metadata": {},
          "execution_count": 97
        }
      ]
    },
    {
      "cell_type": "code",
      "source": [
        "Z5"
      ],
      "metadata": {
        "colab": {
          "base_uri": "https://localhost:8080/"
        },
        "id": "iDmqiCBnqm0V",
        "outputId": "cd13e194-a623-4bca-8396-eaf8cd91f246"
      },
      "execution_count": 98,
      "outputs": [
        {
          "output_type": "execute_result",
          "data": {
            "text/plain": [
              "<tf.Tensor 'add_9:0' shape=(?, 10) dtype=float32>"
            ]
          },
          "metadata": {},
          "execution_count": 98
        }
      ]
    },
    {
      "cell_type": "code",
      "source": [
        "loss"
      ],
      "metadata": {
        "colab": {
          "base_uri": "https://localhost:8080/"
        },
        "id": "ab2hx5TWqrP2",
        "outputId": "dea8abe3-00a0-4a0a-cdcb-aeb695c8ffe5"
      },
      "execution_count": 99,
      "outputs": [
        {
          "output_type": "execute_result",
          "data": {
            "text/plain": [
              "<tf.Tensor 'Mean_7:0' shape=() dtype=float32>"
            ]
          },
          "metadata": {},
          "execution_count": 99
        }
      ]
    },
    {
      "cell_type": "code",
      "source": [
        "optimizer = tf.train.AdamOptimizer(learning_rate)\n",
        "\n",
        "train = optimizer.minimize(loss)  \n",
        "# batch_size X 10 데이터에 대해 argmax를 통해 행단위로 비교함\n",
        "predicted_val = tf.equal( tf.argmax(A5, 1), tf.argmax(T, 1) )\n",
        "\n",
        "# batch_size X 10 의 True, False 를 1 또는 0 으로 변환\n",
        "accuracy = tf.reduce_mean(tf.cast(predicted_val, dtype=tf.float32))"
      ],
      "metadata": {
        "id": "pTcfYfDiqGlW"
      },
      "execution_count": 100,
      "outputs": []
    },
    {
      "cell_type": "code",
      "source": [
        "print(\"optimizer\", optimizer,\"\\n\")\n",
        "predicted_val"
      ],
      "metadata": {
        "colab": {
          "base_uri": "https://localhost:8080/"
        },
        "id": "ltg_7zILqu-v",
        "outputId": "61b2047c-c2c4-4749-8783-fb73cc58de37"
      },
      "execution_count": 101,
      "outputs": [
        {
          "output_type": "stream",
          "name": "stdout",
          "text": [
            "optimizer <tensorflow.python.training.adam.AdamOptimizer object at 0x7fd619eb2a50> \n",
            "\n"
          ]
        },
        {
          "output_type": "execute_result",
          "data": {
            "text/plain": [
              "<tf.Tensor 'Equal_4:0' shape=(?,) dtype=bool>"
            ]
          },
          "metadata": {},
          "execution_count": 101
        }
      ]
    },
    {
      "cell_type": "code",
      "source": [
        "print(\"tf.argmax(A5,1)\",tf.argmax(A5, 1),\"\\n\")\n",
        "print(\"tf.argmax(T,1)\",tf.argmax(T, 1))"
      ],
      "metadata": {
        "colab": {
          "base_uri": "https://localhost:8080/"
        },
        "id": "N4R79L5XrYKf",
        "outputId": "a8ccb43f-3f56-4431-d0fd-5c828e66b6af"
      },
      "execution_count": 102,
      "outputs": [
        {
          "output_type": "stream",
          "name": "stdout",
          "text": [
            "tf.argmax(A5,1) Tensor(\"ArgMax_16:0\", shape=(?,), dtype=int64) \n",
            "\n",
            "tf.argmax(T,1) Tensor(\"ArgMax_17:0\", shape=(?,), dtype=int64)\n"
          ]
        }
      ]
    },
    {
      "cell_type": "code",
      "source": [
        "tf.cast(predicted_val, dtype=tf.float32)"
      ],
      "metadata": {
        "colab": {
          "base_uri": "https://localhost:8080/"
        },
        "id": "evbRZUZfrkZv",
        "outputId": "cf2f2639-a4a7-465a-b5aa-70f0e59ef0c4"
      },
      "execution_count": 103,
      "outputs": [
        {
          "output_type": "execute_result",
          "data": {
            "text/plain": [
              "<tf.Tensor 'Cast_7:0' shape=(?,) dtype=float32>"
            ]
          },
          "metadata": {},
          "execution_count": 103
        }
      ]
    },
    {
      "cell_type": "code",
      "source": [
        "with  tf.Session()  as sess:\n",
        "    \n",
        "    sess.run(tf.global_variables_initializer())  # 변수 노드(tf.Variable) 초기화\n",
        "    \n",
        "    start_time = datetime.now()#학습경과 시간\n",
        "    \n",
        "    for i in range(epochs):    # 30 번 반복수행\n",
        "        \n",
        "        total_batch = int(mnist.train.num_examples / batch_size)  # 55,000 / 100\n",
        "\n",
        "        for step in range(total_batch):\n",
        "            \n",
        "            batch_x_data, batch_t_data = mnist.train.next_batch(batch_size)\n",
        "      \n",
        "            loss_val, _ = sess.run([loss, train], feed_dict={X: batch_x_data, T: batch_t_data})    \n",
        "        \n",
        "            if step % 100 == 0:\n",
        "                print(\"epochs = \", i, \", step = \", step, \", loss_val = \", loss_val)             \n",
        "    end_time = datetime.now() \n",
        "    \n",
        "    print(\"\\nelapsed time = \", end_time - start_time) \n",
        "    \n",
        "    # Accuracy 확인\n",
        "    test_x_data = mnist.test.images    # 10000 X 784\n",
        "    test_t_data = mnist.test.labels    # 10000 X 10\n",
        "    \n",
        "    accuracy_val = sess.run(accuracy, feed_dict={X: test_x_data, T: test_t_data})\n",
        "    \n",
        "    print(\"\\nAccuracy = \", accuracy_val)"
      ],
      "metadata": {
        "colab": {
          "base_uri": "https://localhost:8080/"
        },
        "id": "dy1pZKZXi-_r",
        "outputId": "f058ffce-d591-43e0-cd59-8204089f597c"
      },
      "execution_count": 117,
      "outputs": [
        {
          "output_type": "stream",
          "name": "stdout",
          "text": [
            "epochs =  0 , step =  0 , loss_val =  2.7656915\n",
            "epochs =  0 , step =  100 , loss_val =  2.2911062\n",
            "epochs =  0 , step =  200 , loss_val =  0.32244477\n",
            "epochs =  0 , step =  300 , loss_val =  0.29068494\n",
            "epochs =  0 , step =  400 , loss_val =  0.49716103\n",
            "epochs =  0 , step =  500 , loss_val =  0.22872306\n",
            "epochs =  1 , step =  0 , loss_val =  0.17914087\n",
            "epochs =  1 , step =  100 , loss_val =  0.048879962\n",
            "epochs =  1 , step =  200 , loss_val =  0.110925026\n",
            "epochs =  1 , step =  300 , loss_val =  0.12997532\n",
            "epochs =  1 , step =  400 , loss_val =  0.07831758\n",
            "epochs =  1 , step =  500 , loss_val =  0.0711055\n",
            "epochs =  2 , step =  0 , loss_val =  0.09930856\n",
            "epochs =  2 , step =  100 , loss_val =  0.029170342\n",
            "epochs =  2 , step =  200 , loss_val =  0.0364971\n",
            "epochs =  2 , step =  300 , loss_val =  0.056734797\n",
            "epochs =  2 , step =  400 , loss_val =  0.025782797\n",
            "epochs =  2 , step =  500 , loss_val =  0.026704539\n",
            "epochs =  3 , step =  0 , loss_val =  0.007075724\n",
            "epochs =  3 , step =  100 , loss_val =  0.08739378\n",
            "epochs =  3 , step =  200 , loss_val =  0.041551236\n",
            "epochs =  3 , step =  300 , loss_val =  0.0031939582\n",
            "epochs =  3 , step =  400 , loss_val =  0.015538687\n",
            "epochs =  3 , step =  500 , loss_val =  0.084546305\n",
            "epochs =  4 , step =  0 , loss_val =  0.0681466\n",
            "epochs =  4 , step =  100 , loss_val =  0.056600586\n",
            "epochs =  4 , step =  200 , loss_val =  0.030808361\n",
            "epochs =  4 , step =  300 , loss_val =  0.04678102\n",
            "epochs =  4 , step =  400 , loss_val =  0.0044408487\n",
            "epochs =  4 , step =  500 , loss_val =  0.0797349\n",
            "epochs =  5 , step =  0 , loss_val =  0.06591164\n",
            "epochs =  5 , step =  100 , loss_val =  0.021681506\n",
            "epochs =  5 , step =  200 , loss_val =  0.01666095\n",
            "epochs =  5 , step =  300 , loss_val =  0.02442686\n",
            "epochs =  5 , step =  400 , loss_val =  0.011871576\n",
            "epochs =  5 , step =  500 , loss_val =  0.022435214\n",
            "epochs =  6 , step =  0 , loss_val =  0.005745038\n",
            "epochs =  6 , step =  100 , loss_val =  0.030683035\n",
            "epochs =  6 , step =  200 , loss_val =  0.015476976\n",
            "epochs =  6 , step =  300 , loss_val =  0.0040003117\n",
            "epochs =  6 , step =  400 , loss_val =  0.010309308\n",
            "epochs =  6 , step =  500 , loss_val =  0.015496594\n",
            "epochs =  7 , step =  0 , loss_val =  0.0013816947\n",
            "epochs =  7 , step =  100 , loss_val =  0.0025612\n",
            "epochs =  7 , step =  200 , loss_val =  0.016002197\n",
            "epochs =  7 , step =  300 , loss_val =  0.004742035\n",
            "epochs =  7 , step =  400 , loss_val =  0.014075973\n",
            "epochs =  7 , step =  500 , loss_val =  0.0004320457\n",
            "epochs =  8 , step =  0 , loss_val =  0.0035696381\n",
            "epochs =  8 , step =  100 , loss_val =  0.09210069\n",
            "epochs =  8 , step =  200 , loss_val =  0.023028338\n",
            "epochs =  8 , step =  300 , loss_val =  0.11451625\n",
            "epochs =  8 , step =  400 , loss_val =  0.039396867\n",
            "epochs =  8 , step =  500 , loss_val =  0.00034164535\n",
            "epochs =  9 , step =  0 , loss_val =  0.03455189\n",
            "epochs =  9 , step =  100 , loss_val =  0.0024413054\n",
            "epochs =  9 , step =  200 , loss_val =  0.016874041\n",
            "epochs =  9 , step =  300 , loss_val =  0.06705267\n",
            "epochs =  9 , step =  400 , loss_val =  0.003176537\n",
            "epochs =  9 , step =  500 , loss_val =  0.008609741\n",
            "epochs =  10 , step =  0 , loss_val =  0.0023342352\n",
            "epochs =  10 , step =  100 , loss_val =  0.024281282\n",
            "epochs =  10 , step =  200 , loss_val =  0.0011551094\n",
            "epochs =  10 , step =  300 , loss_val =  0.01656939\n",
            "epochs =  10 , step =  400 , loss_val =  0.002275225\n",
            "epochs =  10 , step =  500 , loss_val =  0.0013579428\n",
            "epochs =  11 , step =  0 , loss_val =  0.010063877\n",
            "epochs =  11 , step =  100 , loss_val =  0.01015212\n",
            "epochs =  11 , step =  200 , loss_val =  0.018291714\n",
            "epochs =  11 , step =  300 , loss_val =  0.008877976\n",
            "epochs =  11 , step =  400 , loss_val =  0.015786432\n",
            "epochs =  11 , step =  500 , loss_val =  0.0023571874\n",
            "epochs =  12 , step =  0 , loss_val =  0.0072223037\n",
            "epochs =  12 , step =  100 , loss_val =  0.015213537\n",
            "epochs =  12 , step =  200 , loss_val =  0.0095176315\n",
            "epochs =  12 , step =  300 , loss_val =  0.0007212832\n",
            "epochs =  12 , step =  400 , loss_val =  0.01891737\n",
            "epochs =  12 , step =  500 , loss_val =  0.010643303\n",
            "epochs =  13 , step =  0 , loss_val =  0.0016723142\n",
            "epochs =  13 , step =  100 , loss_val =  0.0039263777\n",
            "epochs =  13 , step =  200 , loss_val =  0.0002467535\n",
            "epochs =  13 , step =  300 , loss_val =  0.00093920185\n",
            "epochs =  13 , step =  400 , loss_val =  0.0012448477\n",
            "epochs =  13 , step =  500 , loss_val =  0.014714111\n",
            "epochs =  14 , step =  0 , loss_val =  0.008860577\n",
            "epochs =  14 , step =  100 , loss_val =  0.014177846\n",
            "epochs =  14 , step =  200 , loss_val =  0.028829344\n",
            "epochs =  14 , step =  300 , loss_val =  0.00327423\n",
            "epochs =  14 , step =  400 , loss_val =  0.0030606387\n",
            "epochs =  14 , step =  500 , loss_val =  0.008959875\n",
            "epochs =  15 , step =  0 , loss_val =  0.0117924865\n",
            "epochs =  15 , step =  100 , loss_val =  0.00038594328\n",
            "epochs =  15 , step =  200 , loss_val =  0.0011307294\n",
            "epochs =  15 , step =  300 , loss_val =  0.0032160154\n",
            "epochs =  15 , step =  400 , loss_val =  0.00012390422\n",
            "epochs =  15 , step =  500 , loss_val =  0.003225814\n",
            "epochs =  16 , step =  0 , loss_val =  0.0034847322\n",
            "epochs =  16 , step =  100 , loss_val =  0.013702648\n",
            "epochs =  16 , step =  200 , loss_val =  0.0004936515\n",
            "epochs =  16 , step =  300 , loss_val =  0.00029094773\n",
            "epochs =  16 , step =  400 , loss_val =  0.00087450474\n",
            "epochs =  16 , step =  500 , loss_val =  0.00018716908\n",
            "epochs =  17 , step =  0 , loss_val =  0.00032587978\n",
            "epochs =  17 , step =  100 , loss_val =  0.00083720835\n",
            "epochs =  17 , step =  200 , loss_val =  0.08104889\n",
            "epochs =  17 , step =  300 , loss_val =  0.0021942803\n",
            "epochs =  17 , step =  400 , loss_val =  0.00024191239\n",
            "epochs =  17 , step =  500 , loss_val =  0.00023837881\n",
            "epochs =  18 , step =  0 , loss_val =  0.0018730536\n",
            "epochs =  18 , step =  100 , loss_val =  0.0026733617\n",
            "epochs =  18 , step =  200 , loss_val =  0.030954598\n",
            "epochs =  18 , step =  300 , loss_val =  0.009451531\n",
            "epochs =  18 , step =  400 , loss_val =  0.00035599005\n",
            "epochs =  18 , step =  500 , loss_val =  0.015593563\n",
            "epochs =  19 , step =  0 , loss_val =  0.00012227337\n",
            "epochs =  19 , step =  100 , loss_val =  0.0048167813\n",
            "epochs =  19 , step =  200 , loss_val =  0.00031507175\n",
            "epochs =  19 , step =  300 , loss_val =  0.05312226\n",
            "epochs =  19 , step =  400 , loss_val =  0.00038814425\n",
            "epochs =  19 , step =  500 , loss_val =  0.0040920773\n",
            "epochs =  20 , step =  0 , loss_val =  0.000103072234\n",
            "epochs =  20 , step =  100 , loss_val =  0.0001071872\n",
            "epochs =  20 , step =  200 , loss_val =  0.0035396377\n",
            "epochs =  20 , step =  300 , loss_val =  0.00027107509\n",
            "epochs =  20 , step =  400 , loss_val =  0.0010189157\n",
            "epochs =  20 , step =  500 , loss_val =  1.9609458e-06\n",
            "epochs =  21 , step =  0 , loss_val =  0.00065332686\n",
            "epochs =  21 , step =  100 , loss_val =  0.0012767335\n",
            "epochs =  21 , step =  200 , loss_val =  0.005261129\n",
            "epochs =  21 , step =  300 , loss_val =  0.016840374\n",
            "epochs =  21 , step =  400 , loss_val =  8.324117e-05\n",
            "epochs =  21 , step =  500 , loss_val =  0.008189256\n",
            "epochs =  22 , step =  0 , loss_val =  0.0014934603\n",
            "epochs =  22 , step =  100 , loss_val =  0.00019404937\n",
            "epochs =  22 , step =  200 , loss_val =  0.04720248\n",
            "epochs =  22 , step =  300 , loss_val =  0.0012116262\n",
            "epochs =  22 , step =  400 , loss_val =  4.3733682e-05\n",
            "epochs =  22 , step =  500 , loss_val =  0.004793396\n",
            "epochs =  23 , step =  0 , loss_val =  0.00035868888\n",
            "epochs =  23 , step =  100 , loss_val =  0.0031931766\n",
            "epochs =  23 , step =  200 , loss_val =  0.00088290125\n",
            "epochs =  23 , step =  300 , loss_val =  0.014666722\n",
            "epochs =  23 , step =  400 , loss_val =  0.00059910776\n",
            "epochs =  23 , step =  500 , loss_val =  0.00012504276\n",
            "epochs =  24 , step =  0 , loss_val =  0.012437005\n",
            "epochs =  24 , step =  100 , loss_val =  0.00038142106\n",
            "epochs =  24 , step =  200 , loss_val =  6.731384e-06\n",
            "epochs =  24 , step =  300 , loss_val =  9.849484e-05\n",
            "epochs =  24 , step =  400 , loss_val =  9.910317e-05\n",
            "epochs =  24 , step =  500 , loss_val =  0.0012940625\n",
            "epochs =  25 , step =  0 , loss_val =  0.00018803771\n",
            "epochs =  25 , step =  100 , loss_val =  0.00017606573\n",
            "epochs =  25 , step =  200 , loss_val =  0.00018698444\n",
            "epochs =  25 , step =  300 , loss_val =  1.3806383e-05\n",
            "epochs =  25 , step =  400 , loss_val =  2.645128e-06\n",
            "epochs =  25 , step =  500 , loss_val =  3.605533e-06\n",
            "epochs =  26 , step =  0 , loss_val =  0.00010067377\n",
            "epochs =  26 , step =  100 , loss_val =  9.691529e-06\n",
            "epochs =  26 , step =  200 , loss_val =  5.7639045e-05\n",
            "epochs =  26 , step =  300 , loss_val =  0.00014735328\n",
            "epochs =  26 , step =  400 , loss_val =  0.014300128\n",
            "epochs =  26 , step =  500 , loss_val =  3.3483822e-05\n",
            "epochs =  27 , step =  0 , loss_val =  0.21721886\n",
            "epochs =  27 , step =  100 , loss_val =  0.0015906239\n",
            "epochs =  27 , step =  200 , loss_val =  0.026195107\n",
            "epochs =  27 , step =  300 , loss_val =  0.0016137812\n",
            "epochs =  27 , step =  400 , loss_val =  9.223031e-05\n",
            "epochs =  27 , step =  500 , loss_val =  0.0015814654\n",
            "epochs =  28 , step =  0 , loss_val =  0.0025508592\n",
            "epochs =  28 , step =  100 , loss_val =  8.795647e-05\n",
            "epochs =  28 , step =  200 , loss_val =  6.759268e-06\n",
            "epochs =  28 , step =  300 , loss_val =  0.002493599\n",
            "epochs =  28 , step =  400 , loss_val =  2.111176e-05\n",
            "epochs =  28 , step =  500 , loss_val =  0.00018977548\n",
            "epochs =  29 , step =  0 , loss_val =  1.4960248e-06\n",
            "epochs =  29 , step =  100 , loss_val =  0.00043539185\n",
            "epochs =  29 , step =  200 , loss_val =  0.002998351\n",
            "epochs =  29 , step =  300 , loss_val =  6.057581e-05\n",
            "epochs =  29 , step =  400 , loss_val =  0.0032992044\n",
            "epochs =  29 , step =  500 , loss_val =  0.000200418\n",
            "\n",
            "elapsed time =  0:01:08.994188\n",
            "\n",
            "Accuracy =  0.9907\n"
          ]
        }
      ]
    },
    {
      "cell_type": "code",
      "source": [
        "import matplotlib.pyplot as plt\n",
        "plt.title('step=500, loss_val')\n",
        "plt.xlabel('epoch')\n",
        "x=[0, 1, 2, 3, 4, 5, 6, 7,8,9,10,11,12,13,14,15,16,17,18,19,20,21,22,23,24,25,26,27,28,29]\n",
        "y=[0.22872306, 0.0711055, 0.026704539, 0.084546305, 0.0797349, 0.022435214, 0.015496594, 0.0004320457, 0.00034164535, 0.008609741, 0.0013579428, 0.0023571874, 0.010643303, 0.014714111, 0.008959875, 0.003225814, 0.00018716908, 0.00023837881, 0.015593563, 0.0040920773, 1.9609458e-06, 0.008189256, 0.004793396, 0.00012504276, 0.0012940625, 3.605533e-06, 3.3483822e-05, 0.0015814654, 0.00018977548, 0.000200418]\n",
        "plt.plot(x,y)"
      ],
      "metadata": {
        "colab": {
          "base_uri": "https://localhost:8080/",
          "height": 314
        },
        "id": "ZmAMATHVzq8G",
        "outputId": "9f69708b-df38-4692-e57d-3e635d5f87f4"
      },
      "execution_count": 121,
      "outputs": [
        {
          "output_type": "execute_result",
          "data": {
            "text/plain": [
              "[<matplotlib.lines.Line2D at 0x7fd617716a10>]"
            ]
          },
          "metadata": {},
          "execution_count": 121
        },
        {
          "output_type": "display_data",
          "data": {
            "text/plain": [
              "<Figure size 432x288 with 1 Axes>"
            ],
            "image/png": "[encoded data removed]"
          },
          "metadata": {
            "needs_background": "light"
          }
        }
      ]
    }
  ]
}
