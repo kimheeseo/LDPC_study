{
  "nbformat": 4,
  "nbformat_minor": 0,
  "metadata": {
    "colab": {
      "name": "LDPC_graph.ipynb",
      "provenance": [],
      "authorship_tag": "ABX9TyMtsmgqdbLTqSgy8rNTPLEh",
      "include_colab_link": true
    },
    "kernelspec": {
      "name": "python3",
      "display_name": "Python 3"
    },
    "language_info": {
      "name": "python"
    }
  },
  "cells": [
    {
      "cell_type": "markdown",
      "metadata": {
        "id": "view-in-github",
        "colab_type": "text"
      },
      "source": [
        "<a href=\"https://colab.research.google.com/github/kimheeseo/LDPC_study/blob/main/LDPC_graph.ipynb\" target=\"_parent\"><img src=\"https://colab.research.google.com/assets/colab-badge.svg\" alt=\"Open In Colab\"/></a>"
      ]
    },
    {
      "cell_type": "code",
      "execution_count": null,
      "metadata": {
        "id": "WLNXMYBPwu9-"
      },
      "outputs": [],
      "source": [
        "1. Edges and Vertices of Graph\n",
        "https://www.tutorialspoint.com/edges-and-vertices-of-graph"
      ]
    },
    {
      "cell_type": "code",
      "source": [
        "2. regular of degree\n",
        "https://www.geeksforgeeks.org/regular-graph-in-graph-theory/"
      ],
      "metadata": {
        "id": "IbFZcMN65iII"
      },
      "execution_count": null,
      "outputs": []
    },
    {
      "cell_type": "code",
      "source": [
        "3. subgraph\n",
        "https://www.researchgate.net/figure/Subgraph-isomorphism-An-example-of-subgraph-isomorphism-between-graphs-G-and-G-with_fig5_232085273"
      ],
      "metadata": {
        "id": "24VTU4dP63uO"
      },
      "execution_count": null,
      "outputs": []
    },
    {
      "cell_type": "code",
      "source": [
        "4. diameter\n",
        "https://www.google.com/url?sa=i&url=https%3A%2F%2Fwww.researchgate.net%2Ffigure%2FExample-of-Graph-diameter-and-radius_fig1_280012327&psig=AOvVaw1PbgcUBhSYMXhsK4MjMcej&ust=1657072296638000&source=images&cd=vfe&ved=0CAwQjRxqFwoTCOCs377R4PgCFQAAAAAdAAAAABAD"
      ],
      "metadata": {
        "id": "gU6V3xEXDul_"
      },
      "execution_count": null,
      "outputs": []
    },
    {
      "cell_type": "code",
      "source": [
        "5. center\n",
        "https://www.youtube.com/watch?v=nzF_9bjDzdc"
      ],
      "metadata": {
        "id": "MkHzn5mIG6WY"
      },
      "execution_count": null,
      "outputs": []
    },
    {
      "cell_type": "code",
      "source": [
        "6. closed path\n",
        "https://www.britannica.com/science/closed-path"
      ],
      "metadata": {
        "id": "tO5m3qupKuLy"
      },
      "execution_count": null,
      "outputs": []
    },
    {
      "cell_type": "code",
      "source": [
        "7. tree\n",
        "https://kangworld.tistory.com/37"
      ],
      "metadata": {
        "id": "Sol2icGfMS98"
      },
      "execution_count": null,
      "outputs": []
    }
  ]
}