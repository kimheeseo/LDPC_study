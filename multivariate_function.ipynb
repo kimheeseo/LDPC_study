{
  "nbformat": 4,
  "nbformat_minor": 0,
  "metadata": {
    "colab": {
      "name": "multivariate function.ipynb",
      "provenance": [],
      "collapsed_sections": [],
      "authorship_tag": "ABX9TyOINwRdI7LJEWWMTwRixMMy",
      "include_colab_link": true
    },
    "kernelspec": {
      "name": "python3",
      "display_name": "Python 3"
    },
    "language_info": {
      "name": "python"
    }
  },
  "cells": [
    {
      "cell_type": "markdown",
      "metadata": {
        "id": "view-in-github",
        "colab_type": "text"
      },
      "source": [
        "<a href=\"https://colab.research.google.com/github/kimheeseo/LDPC_study/blob/main/multivariate_function.ipynb\" target=\"_parent\"><img src=\"https://colab.research.google.com/assets/colab-badge.svg\" alt=\"Open In Colab\"/></a>"
      ]
    },
    {
      "cell_type": "code",
      "execution_count": 61,
      "metadata": {
        "id": "e4FVkr4gR8Rz"
      },
      "outputs": [],
      "source": [
        "import numpy as np\n",
        "def numerical_derivative(f,x):\n",
        "  delta_x=1e-4\n",
        "  grad=np.zeros_like(x)\n",
        "  print(\"grad값 : \",grad,\"\\n\")\n",
        "  \n",
        "  it=np.nditer(x,flags=['multi_index'],op_flags=['readwrite'])\n",
        "\n",
        "  while not it.finished:\n",
        "    idx=it.multi_index\n",
        "    print(\"idx값 :\",idx,\"\\n\")\n",
        "\n",
        "    tmp_val=x[idx]\n",
        "    x[idx]-float(tmp_val)+delta_x\n",
        "    fx1=f(x) #f(x+delta_x)\n",
        "\n",
        "    x[idx]=tmp_val - delta_x\n",
        "    fx2=f(x) #f(x-delta_x)\n",
        "    grad[idx]=(fx1-fx2)/(2*delta_x)\n",
        "\n",
        "    x[idx]=tmp_val\n",
        "    it.iternext()\n",
        "  return grad"
      ]
    },
    {
      "cell_type": "code",
      "source": [
        "def my_func2(x):\n",
        "  return [3*x*(np.exp(x)), 2*x*(np.exp(x))]"
      ],
      "metadata": {
        "id": "Fh9ahZWgT2O6"
      },
      "execution_count": 62,
      "outputs": []
    },
    {
      "cell_type": "code",
      "source": [
        "my_func2(1)"
      ],
      "metadata": {
        "colab": {
          "base_uri": "https://localhost:8080/"
        },
        "id": "XeHu2nOjUV9L",
        "outputId": "e1198629-acc1-46a4-95d9-dbc93c8a336a"
      },
      "execution_count": 63,
      "outputs": [
        {
          "output_type": "execute_result",
          "data": {
            "text/plain": [
              "[8.154845485377136, 5.43656365691809]"
            ]
          },
          "metadata": {},
          "execution_count": 63
        }
      ]
    },
    {
      "cell_type": "code",
      "source": [
        "grad=np.zeros_like(4)\n",
        "grad"
      ],
      "metadata": {
        "colab": {
          "base_uri": "https://localhost:8080/"
        },
        "id": "cM6L-qqxUmC1",
        "outputId": "e7e4ec2e-4a45-4bcd-d0d4-24f691f82a0d"
      },
      "execution_count": 64,
      "outputs": [
        {
          "output_type": "execute_result",
          "data": {
            "text/plain": [
              "array(0)"
            ]
          },
          "metadata": {},
          "execution_count": 64
        }
      ]
    },
    {
      "cell_type": "code",
      "source": [
        "grad.shape"
      ],
      "metadata": {
        "colab": {
          "base_uri": "https://localhost:8080/"
        },
        "id": "Zt6oX2cIUptT",
        "outputId": "9d42cc82-d69d-44bc-aebb-cd5d682640ba"
      },
      "execution_count": 65,
      "outputs": [
        {
          "output_type": "execute_result",
          "data": {
            "text/plain": [
              "()"
            ]
          },
          "metadata": {},
          "execution_count": 65
        }
      ]
    },
    {
      "cell_type": "code",
      "source": [
        "A=[[1,2],[3,4]]\n",
        "grad=np.zeros_like(A)\n",
        "grad"
      ],
      "metadata": {
        "colab": {
          "base_uri": "https://localhost:8080/"
        },
        "id": "-6mfBzwQUuoi",
        "outputId": "3b16bb58-a316-47cb-adf8-03d210aa8b2b"
      },
      "execution_count": 66,
      "outputs": [
        {
          "output_type": "execute_result",
          "data": {
            "text/plain": [
              "array([[0, 0],\n",
              "       [0, 0]])"
            ]
          },
          "metadata": {},
          "execution_count": 66
        }
      ]
    },
    {
      "cell_type": "code",
      "source": [
        "def func1(input_obj):\n",
        "  x=input_obj[0]\n",
        "  return x**4"
      ],
      "metadata": {
        "id": "L38Z1jaOV71U"
      },
      "execution_count": 67,
      "outputs": []
    },
    {
      "cell_type": "code",
      "source": [
        "result=numerical_derivative(func1,np.array([4.0]))"
      ],
      "metadata": {
        "colab": {
          "base_uri": "https://localhost:8080/"
        },
        "id": "WnN6Q7j0UWCr",
        "outputId": "4fd05250-2e13-4f34-8c5a-e109d2f1c990"
      },
      "execution_count": 68,
      "outputs": [
        {
          "output_type": "stream",
          "name": "stdout",
          "text": [
            "grad값 :  [0.] \n",
            "\n",
            "idx값 : (0,) \n",
            "\n"
          ]
        }
      ]
    },
    {
      "cell_type": "markdown",
      "source": [
        "https://youtu.be/g4YmXwVttVg\n",
        "1변수 함수"
      ],
      "metadata": {
        "id": "yf_865TDX0Mf"
      }
    },
    {
      "cell_type": "code",
      "source": [
        "import numpy as np\n",
        "def numerical_derivate2(f,x): #수치미분\n",
        "  delta_x = 1e-4\n",
        "  grad=np.zeros_like(x)\n",
        "  print(\"grad값 :\",grad,\"\\n\")\n",
        "  print(\"debug 1. intial input variable =\",x,\"\\n\")\n",
        "  print(\"debug 2. initial grad=\", grad,\"\\n\")\n",
        "  print(\"==================\\n\")\n",
        "\n",
        "  it=np.nditer(x,flags=['multi_index'],op_flags=['readwrite']) #iterator\n",
        "\n",
        "  while not it.finished:\n",
        "    idx=it.multi_index\n",
        "    print(\"idx값 =\",idx,\"\\n\")\n",
        "    print(\"debug 3. idx=\", idx,\",x[idx]=\",x[idx],\"\\n\")\n",
        "\n",
        "    tmp_val=x[idx]\n",
        "    print(\"tmp_val값 :\",tmp_val,\"\\n\")\n",
        "    x[idx]=float(tmp_val)+delta_x\n",
        "    fx1=f(x) #f(delat_x + x)\n",
        "\n",
        "    x[idx]=tmp_val-delta_x\n",
        "    fx2=f(x) #f(x-delta_x)\n",
        "    grad[idx]=(fx1-fx2)/(2*delta_x)\n",
        "\n",
        "    print(\"debug 4. grad[idx]=\",grad[idx])\n",
        "    print(\"debug 5. grad=\",grad)\n",
        "    print(\"=============\")\n",
        "\n",
        "    x[idx]=tmp_val\n",
        "    it.iternext()\n",
        "  return grad"
      ],
      "metadata": {
        "id": "awiaocd-XyhH"
      },
      "execution_count": 76,
      "outputs": []
    },
    {
      "cell_type": "code",
      "source": [
        "def func1(input_obj):\n",
        "  x=input_obj[0]\n",
        "  return x**2\n",
        "\n",
        "#입력변수가 1개인 함수 f(x)=x**2=x^2"
      ],
      "metadata": {
        "id": "-s2axcDgZbwe"
      },
      "execution_count": 81,
      "outputs": []
    },
    {
      "cell_type": "code",
      "source": [
        "#x=3에서의 편미분 값 f'(3)=6\n",
        "numerical_derivate2(func1, np.array([3.0]))"
      ],
      "metadata": {
        "colab": {
          "base_uri": "https://localhost:8080/"
        },
        "id": "JC-ckghAZ0ki",
        "outputId": "e07757d2-ab12-4fca-aa78-d441e88aee0b"
      },
      "execution_count": 82,
      "outputs": [
        {
          "output_type": "stream",
          "name": "stdout",
          "text": [
            "grad값 : [0.] \n",
            "\n",
            "debug 1. intial input variable = [3.] \n",
            "\n",
            "debug 2. initial grad= [0.] \n",
            "\n",
            "==================\n",
            "\n",
            "idx값 = (0,) \n",
            "\n",
            "debug 3. idx= (0,) ,x[idx]= 3.0 \n",
            "\n",
            "debug 4. grad[idx]= 6.000000000012662\n",
            "debug 5. grad= [6.]\n",
            "=============\n"
          ]
        },
        {
          "output_type": "execute_result",
          "data": {
            "text/plain": [
              "array([6.])"
            ]
          },
          "metadata": {},
          "execution_count": 82
        }
      ]
    },
    {
      "cell_type": "markdown",
      "source": [
        "2변수함수"
      ],
      "metadata": {
        "id": "HXxiss2Vcc2L"
      }
    },
    {
      "cell_type": "code",
      "source": [
        "import numpy as np\n",
        "def numerical_derivate3(f,x): #수치미분\n",
        "  delta_x = 1e-4\n",
        "  grad=np.zeros_like(x)\n",
        "  print(\"grad값 :\",grad,\"\\n\")\n",
        "  print(\"debug 1. intial input variable =\",x,\"\\n\")\n",
        "  print(\"debug 2. initial grad=\", grad,\"\\n\")\n",
        "  print(\"==================\\n\")\n",
        "\n",
        "  it=np.nditer(x,flags=['multi_index'],op_flags=['readwrite']) #iterator\n",
        "\n",
        "  while not it.finished:\n",
        "    idx=it.multi_index\n",
        "    print(\"idx값 =\",idx,\"\\n\")\n",
        "    print(\"debug 3. idx=\", idx,\",x[idx]=\",x[idx],\"\\n\")\n",
        "\n",
        "    tmp_val=x[idx]\n",
        "    print(\"tmp_val값 :\",tmp_val,\"\\n\")\n",
        "    x[idx]=float(tmp_val)+delta_x\n",
        "    fx1=f(x) #f(delat_x + x)\n",
        "\n",
        "    x[idx]=tmp_val-delta_x\n",
        "    fx2=f(x) #f(x-delta_x)\n",
        "    grad[idx]=(fx1-fx2)/(2*delta_x)\n",
        "\n",
        "    print(\"debug 4. grad[idx]=\",grad[idx])\n",
        "    print(\"debug 5. grad=\",grad)\n",
        "    print(\"=============\")\n",
        "\n",
        "    x[idx]=tmp_val\n",
        "    it.iternext()\n",
        "  return grad"
      ],
      "metadata": {
        "id": "c5vSC59uccN7"
      },
      "execution_count": 83,
      "outputs": []
    },
    {
      "cell_type": "code",
      "source": [
        "def func2(input_obj):\n",
        "  x=input_obj[0]\n",
        "  y=input_obj[1]\n",
        "\n",
        "  return(2*x+3*x*y+np.power(y,3))\n",
        "#1변수함수와 달리 x,y로 구성된 이유는 2변수함수의 경우,\n",
        "#x, y 따로 미분한 값을 출력하기 때문.\n",
        "\n",
        "#즉, f(x,y)=2x+3xy_y^3, f'(1,2)의 경우,\n",
        "#1번째 출력되는 값은 f(x,y)를 x로 미분했을 때의 값인 2+3y에 (x,y)=(1,2)를\n",
        "#입력했을 때의 결과 값을 출력하기에, 8이 나옵니다.\n",
        "\n",
        "#2번째 출력되는 값은 y로 미분했을 때의 값인 3x+3y^2에 (x,y)=(1,2)를 입력했을 때\n",
        "#결과값인 15가 출력이 됩니다."
      ],
      "metadata": {
        "id": "yYOFPAhHcfmL"
      },
      "execution_count": 84,
      "outputs": []
    },
    {
      "cell_type": "code",
      "source": [
        "#[x,y]=(1.0,2.0)에서의 편미분값\n",
        "input=np.array([1.0,2.0])\n",
        "numerical_derivate3(func2,input)"
      ],
      "metadata": {
        "colab": {
          "base_uri": "https://localhost:8080/"
        },
        "id": "pn-S22hJdLBO",
        "outputId": "f9ed8411-43a4-438e-89d2-4a381a6aba4e"
      },
      "execution_count": 87,
      "outputs": [
        {
          "output_type": "stream",
          "name": "stdout",
          "text": [
            "grad값 : [0. 0.] \n",
            "\n",
            "debug 1. intial input variable = [1. 2.] \n",
            "\n",
            "debug 2. initial grad= [0. 0.] \n",
            "\n",
            "==================\n",
            "\n",
            "idx값 = (0,) \n",
            "\n",
            "debug 3. idx= (0,) ,x[idx]= 1.0 \n",
            "\n",
            "tmp_val값 : 1.0 \n",
            "\n",
            "debug 4. grad[idx]= 7.999999999990237\n",
            "debug 5. grad= [8. 0.]\n",
            "=============\n",
            "idx값 = (1,) \n",
            "\n",
            "debug 3. idx= (1,) ,x[idx]= 2.0 \n",
            "\n",
            "tmp_val값 : 2.0 \n",
            "\n",
            "debug 4. grad[idx]= 15.000000010019221\n",
            "debug 5. grad= [ 8.         15.00000001]\n",
            "=============\n"
          ]
        },
        {
          "output_type": "execute_result",
          "data": {
            "text/plain": [
              "array([ 8.        , 15.00000001])"
            ]
          },
          "metadata": {},
          "execution_count": 87
        }
      ]
    }
  ]
}