{
  "nbformat": 4,
  "nbformat_minor": 0,
  "metadata": {
    "colab": {
      "name": "1)genrator_polynomial.ipynb",
      "provenance": [],
      "authorship_tag": "ABX9TyNa8mgptq3cKorwESr2bXuV",
      "include_colab_link": true
    },
    "kernelspec": {
      "name": "python3",
      "display_name": "Python 3"
    },
    "language_info": {
      "name": "python"
    }
  },
  "cells": [
    {
      "cell_type": "markdown",
      "metadata": {
        "id": "view-in-github",
        "colab_type": "text"
      },
      "source": [
        "<a href=\"https://colab.research.google.com/github/kimheeseo/LDPC_study/blob/main/1)genrator_polynomial.ipynb\" target=\"_parent\"><img src=\"https://colab.research.google.com/assets/colab-badge.svg\" alt=\"Open In Colab\"/></a>"
      ]
    },
    {
      "cell_type": "code",
      "execution_count": null,
      "metadata": {
        "id": "34ozWrcspRR6"
      },
      "outputs": [],
      "source": [
        "#출처 : https://youtu.be/1Xj9gAMcZQg\n",
        "clc;\n",
        "clear all;\n",
        "\n",
        "k=input('enter the length of Msg word :');\n",
        "n=input('enter the length of codeword :');\n",
        "m=input('enter the Msg Word :');\n",
        "G=cyclpoly(n,k,'max')\n",
        "#cyclpoly : Produce generator polynomials for cyclic code\n",
        "\n",
        "#pol = cyclpoly(n,k,opt)\n",
        "#searches for one or more nontrivial generator polynomials for cyclic codes\n",
        "#having codeword length n and message length k.\n",
        "\n",
        "#The output pol depends on the argument opt as shown in the table below."
      ]
    }
  ]
}
